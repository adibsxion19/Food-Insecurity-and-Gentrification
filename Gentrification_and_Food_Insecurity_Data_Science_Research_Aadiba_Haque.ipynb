{
  "nbformat": 4,
  "nbformat_minor": 0,
  "metadata": {
    "kernelspec": {
      "name": "python3",
      "display_name": "Python 3"
    },
    "colab": {
      "name": "Gentrification and Food Insecurity Data Science Research - Aadiba Haque",
      "provenance": [],
      "collapsed_sections": [
        "MIu276rQm5xC",
        "lvDrsTe_m5xI",
        "OwyI2Lvrm5xI",
        "6WZGrAMLm5xJ",
        "YIPuzxQSXMLM",
        "N1fDBQL1m5xK",
        "pZ0zwfawm5xL",
        "I8W_NeDC_3gG",
        "qGyeqopbAFdN",
        "IgvdHNROAVxh",
        "ESb5rnMNAfTR",
        "64QrU9-ZAyPN",
        "gEAynBW3m5xS",
        "_sGsefj86LoR",
        "AgS8PetB6u38",
        "WTgWAqXg7BEb",
        "IUv2iNU-8ShY",
        "X99aRkeC8nqs",
        "APYwQk3Om5xY",
        "hyzT_-RUm5xa",
        "pIspcZu2suvN"
      ],
      "include_colab_link": true
    },
    "language_info": {
      "name": "python"
    }
  },
  "cells": [
    {
      "cell_type": "markdown",
      "metadata": {
        "id": "view-in-github",
        "colab_type": "text"
      },
      "source": [
        "<a href=\"https://colab.research.google.com/github/adibsxion19/Food-Insecurity-and-Gentrification/blob/main/Gentrification_and_Food_Insecurity_Data_Science_Research_Aadiba_Haque.ipynb\" target=\"_parent\"><img src=\"https://colab.research.google.com/assets/colab-badge.svg\" alt=\"Open In Colab\"/></a>"
      ]
    },
    {
      "cell_type": "markdown",
      "metadata": {
        "deletable": false,
        "editable": false,
        "nbgrader": {
          "cell_type": "markdown",
          "checksum": "9f307b65d0bba7dcc59dc16ffe5f4976",
          "grade": false,
          "grade_id": "preamble",
          "locked": true,
          "schema_version": 3,
          "solution": false,
          "task": false
        },
        "id": "MIu276rQm5xC"
      },
      "source": [
        "# **NYU Tandon VIP: Solutions for Sustainable Futures**\n",
        "## Analyzing the Relationship between Food Insecurity and Gentrification \n",
        "### *By: Aadiba Haque*\n",
        "#### Food Insecurity Team | Data Subteam\n",
        "\n"
      ]
    },
    {
      "cell_type": "markdown",
      "metadata": {
        "deletable": false,
        "editable": false,
        "nbgrader": {
          "cell_type": "markdown",
          "checksum": "6c7255934d036ca35d49a9160180ebb9",
          "grade": false,
          "grade_id": "intro",
          "locked": true,
          "schema_version": 3,
          "solution": false,
          "task": false
        },
        "id": "7KXy3Qgim5xH"
      },
      "source": [
        "\n",
        "\n",
        "**Objective:** Start data science research to explore the relationship between gentrification and food insecurity in NYC. (Using template of Data Science for Everyone class' Portfolio Project Part I for this project.)\n",
        "\n",
        "**Goals:**\n",
        "- select and explore dataset by applying the skills to evaluate the data\n",
        "- set up research design\n",
        "- import and manipulate dataset in Python\n",
        "- conduct original and theoretically-motivated exploratory observations of your data\n",
        "- use comments to explain code and output\n",
        "\n"
      ]
    },
    {
      "cell_type": "markdown",
      "metadata": {
        "deletable": false,
        "editable": false,
        "nbgrader": {
          "cell_type": "markdown",
          "checksum": "7b615f46f0dc02204d9adcab61ba9c00",
          "grade": false,
          "grade_id": "Q1",
          "locked": true,
          "points": 5,
          "schema_version": 3,
          "solution": false,
          "task": true
        },
        "id": "lvDrsTe_m5xI"
      },
      "source": [
        "### **1. Research goals**\n",
        "\n",
        "Describe the dataset you have chosen and why you chose it. Very broadly speaking, what drew you to this dataset, and what do you hope to learn through your research?"
      ]
    },
    {
      "cell_type": "markdown",
      "metadata": {
        "id": "gTtqrPuum5xI"
      },
      "source": [
        "These datasets tells us the amount of gentrification and food insecurity in each neighborhood of NYC. I chose it because it provides a great visual (heat maps), with clear conceptualizations and operationalizations of gentrification and the food insecurity map was one of the only sources of detailed data of food insecurity in NYC I could find, and can give me an idea of how gentrified NYC is. I hope to use these datasets together  to see if there is any relationship between gentrification and food insecurity in NYC."
      ]
    },
    {
      "cell_type": "markdown",
      "metadata": {
        "deletable": false,
        "editable": false,
        "nbgrader": {
          "cell_type": "markdown",
          "checksum": "89d299ac06d28580473236bae6fb5e50",
          "grade": false,
          "grade_id": "Q2",
          "locked": true,
          "points": 5,
          "schema_version": 3,
          "solution": false,
          "task": true
        },
        "id": "OwyI2Lvrm5xI"
      },
      "source": [
        "### **2. Theory & hypothesis**\n",
        "\n",
        "What is one theory you would like to test with this dataset? (It’s okay if you don’t end up directly testing this theory.) What is one testable hypothesis that follows from that theory?"
      ]
    },
    {
      "cell_type": "markdown",
      "metadata": {
        "id": "Vvmo20Jpm5xJ"
      },
      "source": [
        "- **Theory**: Gentrification is one of the causes of food insecurity.\n",
        "- **Testable Hypothesis**: Locations with higher levels of gentrification are likely to be more food insecure."
      ]
    },
    {
      "cell_type": "markdown",
      "metadata": {
        "deletable": false,
        "editable": false,
        "nbgrader": {
          "cell_type": "markdown",
          "checksum": "a93e7dcebc18baa4d9cb1500436faaa1",
          "grade": false,
          "grade_id": "Q3",
          "locked": true,
          "points": 5,
          "schema_version": 3,
          "solution": false,
          "task": true
        },
        "id": "6WZGrAMLm5xJ"
      },
      "source": [
        "### **3. Variables of interest**\n",
        "\n",
        "Describe at least two variables in the dataset that will help you test your theory. One should be your dependent variable (DV), and at least one should be your independent variable (IV). Specifically, for each variable describe how it is conceptualized and operationalized, and one strength and weakness of each. (Note: You may have more than one IV if it’s relevant for your theory, but you do not have to.) "
      ]
    },
    {
      "cell_type": "markdown",
      "metadata": {
        "id": "lVPkp6Jjm5xJ"
      },
      "source": [
        "**Independent Variable:** The independent variable is the level of gentrification in NYC (31-county metropolitan region).\n",
        "- **Conceptualization**: In the gentrification map website (under key findings and in Methodology hyperlink). Has to do with income households not being able to move/stay in higher-income neighborhoods with higher rent.\n",
        "   - *Strength*: Focuses on an important aspect of gentrification -- housing -- that can be easily measured. \n",
        "   - *Weakness*: Not clear about how the housing crisis relates to other aspects of gentrification that we want to focus on (food insecurity).\n",
        "- **Operationalization**: In the gentrification map website (under key findings and in Methodology hyperlink). Measures include income tract in 2016, population, rent/house value, households, uses timeline to see differences, etc.\n",
        "   - *Strength*: Looks at several variables to measure gentrification and does not determine it using only one variable. Also has several descriptive tracts of gentrification instead of falling in a binary.\n",
        "   - *Weakness*: Variable measurements are compared to the median -- middle value, but does this tell us much? Why not look at the mean or variation? Also, does the measurement for low-income inclusive to all low-income people?\n",
        "\n",
        "**Dependent Variable:** The dependent variable is the amount of food insecurity in NYC.\n",
        "- **Conceptualization**: Defined by \"Feeding America\" as the \"lack of consistent access to enough food for every person in a household to live an active, healthy life\" either temporarily or permanently.\n",
        "   - *Strength*: This is a specific definition of food insecurity, tells us about what food insecurity is and the scope (based on households).\n",
        "   - *Weakness*: Does not take homeless people or multi-family households into consideration.\n",
        "- **Operationalization**: \"The set of questions used to identify whether someone is food insecure, i.e., living in a food-insecure household, are defined at the household level. A household is said to be food insecure if the respondent answers affirmatively to three or more questions from the Core Food Security Module (CFSM) in the December Supplement of the CPS for the years 2009-2018\" (shown in  APPENDIX C of Map the Meal Gap 2020 Technical Brief.pdf). According to the USDA, \"in December of each year, after completing the labor force interview, about 40,000 households respond to the food security questions\". The dataset measures % of residents who are food insecure (along with % of households with SNAP benefits, # of meals needed per year for food security, and bodega to supermarket ratio in a neighborhood).\n",
        "   - *Strength*: Food insecurity determined based on personal experience instead of thresholds (such as SNAP or poverty) that might not accurately capture food insecurity.\n",
        "   - *Weakness*: The survey is subjective and ideas of \"affording food\" might be different for everyone. There's a greater focus on affording food than access (to healthy food). Contrary to USDA's measure, the dataset looks at food insecurity in the binary. We don't know if the sample of survey takers are representative of the population.\n",
        "\n",
        "  "
      ]
    },
    {
      "cell_type": "markdown",
      "metadata": {
        "deletable": false,
        "editable": false,
        "nbgrader": {
          "cell_type": "markdown",
          "checksum": "a68481d3527098aca6219349d7296f60",
          "grade": false,
          "grade_id": "Q4",
          "locked": true,
          "points": 5,
          "schema_version": 3,
          "solution": false,
          "task": true
        },
        "id": "N1fDBQL1m5xK"
      },
      "source": [
        "### **4. Evaluating the data**\n",
        "\n",
        "All datasets are imperfect. Describe at least two types of errors in your dataset and indicate whether they are random errors, systematic errors (e.g., selection bias), errors of validity, and errors of exclusion. Of these, which do you think will have the strongest impact on your inferences, and why? (Note: for this question you may comment on individual variable(s) and/or the dataset as a whole depending on where you perceive the most relevant errors to be.)"
      ]
    },
    {
      "cell_type": "markdown",
      "metadata": {
        "id": "zq41-B8pm5xK"
      },
      "source": [
        "**Errors:**\n",
        "1. ***Error of Validity***: Our measures of food insecurity and gentrification from these datasets might not be capturing the full picture of these issues and instead might be telling us about something else, such as how gentrification data looks at housing specifically and food insecurity looks at the ability to afford food. We are looking at the relationship between gentrification and food insecurity, but income can be a confounding variable (affecting both gentrification and food insecurity) which can mislead us into thinking there is an association between gentrification and food insecurity when there might not be.\n",
        "2. ***Error of Exclusion***: Our dataset has many missing values. In the food insecurity dataset, 55 locations only have meal gap data, 58 locations have data for the all the other variables except meal gap, and 2165 locations only have data on food insecurity and SNAP benefits. Our gentrification dataset  has 102 locations with missing data on gentrification. Also, when we combined our data, we lost gentrification data from 3,105 locations and food insecurity data from 193 locations (including the locations with missing gentrification data).\n",
        "\n",
        "I think the *error of exclusion* will have the strongest impact on my inference. Due to the large amount of missing data in my datasets, it will be more difficult to find patterns or make insights for all of NYC. The error of validity can also cause issues in our analysis, but we still have a direction in defining and measuring our variables and we can expand our research or take it in another direction if it does not give us insights on what we are looking for. However, it is hard to do that when a lot of data is excluded from our dataset."
      ]
    },
    {
      "cell_type": "markdown",
      "metadata": {
        "deletable": false,
        "editable": false,
        "nbgrader": {
          "cell_type": "markdown",
          "checksum": "00c90aa48d76cea231f98e196f0779fd",
          "grade": false,
          "grade_id": "Q5",
          "locked": true,
          "points": 5,
          "schema_version": 3,
          "solution": false,
          "task": true
        },
        "id": "pZ0zwfawm5xL"
      },
      "source": [
        "### **5. Importing the data**\n",
        "\n",
        "Get the dataset up and running in Python. Import the data into your notebook and carry out any cleaning or organizing that will help you make sense of the dataset. "
      ]
    },
    {
      "cell_type": "markdown",
      "metadata": {
        "id": "I8W_NeDC_3gG"
      },
      "source": [
        "##### Importing Files and Creating Dataframes (with Python Pandas)"
      ]
    },
    {
      "cell_type": "code",
      "metadata": {
        "id": "shaLOvLcm5xL",
        "colab": {
          "base_uri": "https://localhost:8080/"
        },
        "outputId": "cadffb8a-ae7a-458e-d255-1663bf9f687a"
      },
      "source": [
        "#imports google drive files and pandas library\n",
        "from google.colab import drive\n",
        "import pandas as pd\n",
        "drive.mount('/content/drive')"
      ],
      "execution_count": null,
      "outputs": [
        {
          "output_type": "stream",
          "text": [
            "Mounted at /content/drive\n"
          ],
          "name": "stdout"
        }
      ]
    },
    {
      "cell_type": "code",
      "metadata": {
        "id": "srQC1Noh7gaw",
        "colab": {
          "base_uri": "https://localhost:8080/",
          "height": 406
        },
        "outputId": "a8ba4179-546b-4cba-e3c3-9c2c09db00ac"
      },
      "source": [
        "#reads file and creates dataset with gentrification (map) data\n",
        "path = \"/content/drive/MyDrive/VIP - Aadiba Personal/udp_ny_final_typology_jan_2019 .csv\"\n",
        "gent_data = pd.read_csv(path)\n",
        "gent_data"
      ],
      "execution_count": null,
      "outputs": [
        {
          "output_type": "execute_result",
          "data": {
            "text/html": [
              "<div>\n",
              "<style scoped>\n",
              "    .dataframe tbody tr th:only-of-type {\n",
              "        vertical-align: middle;\n",
              "    }\n",
              "\n",
              "    .dataframe tbody tr th {\n",
              "        vertical-align: top;\n",
              "    }\n",
              "\n",
              "    .dataframe thead th {\n",
              "        text-align: right;\n",
              "    }\n",
              "</style>\n",
              "<table border=\"1\" class=\"dataframe\">\n",
              "  <thead>\n",
              "    <tr style=\"text-align: right;\">\n",
              "      <th></th>\n",
              "      <th>geoid</th>\n",
              "      <th>Type_1.19</th>\n",
              "    </tr>\n",
              "  </thead>\n",
              "  <tbody>\n",
              "    <tr>\n",
              "      <th>0</th>\n",
              "      <td>9001020100</td>\n",
              "      <td>LI - At Risk of Gentrification</td>\n",
              "    </tr>\n",
              "    <tr>\n",
              "      <th>1</th>\n",
              "      <td>9001021802</td>\n",
              "      <td>LI - At Risk of Gentrification</td>\n",
              "    </tr>\n",
              "    <tr>\n",
              "      <th>2</th>\n",
              "      <td>9001022000</td>\n",
              "      <td>LI - At Risk of Gentrification</td>\n",
              "    </tr>\n",
              "    <tr>\n",
              "      <th>3</th>\n",
              "      <td>9001043700</td>\n",
              "      <td>LI - At Risk of Gentrification</td>\n",
              "    </tr>\n",
              "    <tr>\n",
              "      <th>4</th>\n",
              "      <td>9001044500</td>\n",
              "      <td>LI - At Risk of Gentrification</td>\n",
              "    </tr>\n",
              "    <tr>\n",
              "      <th>...</th>\n",
              "      <td>...</td>\n",
              "      <td>...</td>\n",
              "    </tr>\n",
              "    <tr>\n",
              "      <th>5289</th>\n",
              "      <td>36119013102</td>\n",
              "      <td>VHI - Super Gentrification or Exclusion</td>\n",
              "    </tr>\n",
              "    <tr>\n",
              "      <th>5290</th>\n",
              "      <td>36119013103</td>\n",
              "      <td>VHI - Super Gentrification or Exclusion</td>\n",
              "    </tr>\n",
              "    <tr>\n",
              "      <th>5291</th>\n",
              "      <td>36119013104</td>\n",
              "      <td>VHI - Super Gentrification or Exclusion</td>\n",
              "    </tr>\n",
              "    <tr>\n",
              "      <th>5292</th>\n",
              "      <td>36119013201</td>\n",
              "      <td>VHI - Super Gentrification or Exclusion</td>\n",
              "    </tr>\n",
              "    <tr>\n",
              "      <th>5293</th>\n",
              "      <td>36119014606</td>\n",
              "      <td>VHI - Super Gentrification or Exclusion</td>\n",
              "    </tr>\n",
              "  </tbody>\n",
              "</table>\n",
              "<p>5294 rows × 2 columns</p>\n",
              "</div>"
            ],
            "text/plain": [
              "            geoid                                Type_1.19\n",
              "0      9001020100           LI - At Risk of Gentrification\n",
              "1      9001021802           LI - At Risk of Gentrification\n",
              "2      9001022000           LI - At Risk of Gentrification\n",
              "3      9001043700           LI - At Risk of Gentrification\n",
              "4      9001044500           LI - At Risk of Gentrification\n",
              "...           ...                                      ...\n",
              "5289  36119013102  VHI - Super Gentrification or Exclusion\n",
              "5290  36119013103  VHI - Super Gentrification or Exclusion\n",
              "5291  36119013104  VHI - Super Gentrification or Exclusion\n",
              "5292  36119013201  VHI - Super Gentrification or Exclusion\n",
              "5293  36119014606  VHI - Super Gentrification or Exclusion\n",
              "\n",
              "[5294 rows x 2 columns]"
            ]
          },
          "metadata": {
            "tags": []
          },
          "execution_count": 2
        }
      ]
    },
    {
      "cell_type": "code",
      "metadata": {
        "id": "SK-EXD6HJsm6",
        "colab": {
          "base_uri": "https://localhost:8080/"
        },
        "outputId": "fda32328-eee4-4bef-c26b-c677065f8680"
      },
      "source": [
        "gent_data[\"Type_1.19\"].value_counts() #number of locations for each gentrification level"
      ],
      "execution_count": null,
      "outputs": [
        {
          "output_type": "execute_result",
          "data": {
            "text/plain": [
              "MHI - Stable Exclusion                                2142\n",
              "MHI - Ongoing Exclusion                                624\n",
              "LI - At Risk of Gentrification                         522\n",
              "LI - Not Losing Low-Income Households                  482\n",
              "LI - Ongoing Displacement of Low-Income Households     463\n",
              "MHI - Advanced Gentrification                          370\n",
              "VHI - Super Gentrification or Exclusion                314\n",
              "LI - Ongoing Gentrification                            275\n",
              "Missing Data                                           102\n",
              "Name: Type_1.19, dtype: int64"
            ]
          },
          "metadata": {
            "tags": []
          },
          "execution_count": 3
        }
      ]
    },
    {
      "cell_type": "code",
      "metadata": {
        "id": "RJduHEsUZSb6",
        "colab": {
          "base_uri": "https://localhost:8080/",
          "height": 344
        },
        "outputId": "dce537aa-a90d-412a-9cb5-724c314ae50b"
      },
      "source": [
        "#reads file and creates dataset with food insecurity (map) data for each borough\n",
        "path = '/content/drive/MyDrive/VIP - Aadiba Personal/Food Insecurity NYC Boroughs.csv'\n",
        "fi_boro = pd.read_csv(path)\n",
        "fi_boro"
      ],
      "execution_count": null,
      "outputs": [
        {
          "output_type": "execute_result",
          "data": {
            "text/html": [
              "<div>\n",
              "<style scoped>\n",
              "    .dataframe tbody tr th:only-of-type {\n",
              "        vertical-align: middle;\n",
              "    }\n",
              "\n",
              "    .dataframe tbody tr th {\n",
              "        vertical-align: top;\n",
              "    }\n",
              "\n",
              "    .dataframe thead th {\n",
              "        text-align: right;\n",
              "    }\n",
              "</style>\n",
              "<table border=\"1\" class=\"dataframe\">\n",
              "  <thead>\n",
              "    <tr style=\"text-align: right;\">\n",
              "      <th></th>\n",
              "      <th>GEO_LABEL</th>\n",
              "      <th>Bodega to Supermarket Ratio (#)</th>\n",
              "      <th>Food Insecure (% of residents)</th>\n",
              "      <th>Meal Gap (# of meals needed per year for food security)</th>\n",
              "      <th>SNAP Benefits (% households)</th>\n",
              "    </tr>\n",
              "  </thead>\n",
              "  <tbody>\n",
              "    <tr>\n",
              "      <th>0</th>\n",
              "      <td>Borough of the Bronx</td>\n",
              "      <td>15</td>\n",
              "      <td>17.5</td>\n",
              "      <td>46767800</td>\n",
              "      <td>37.726117</td>\n",
              "    </tr>\n",
              "    <tr>\n",
              "      <th>1</th>\n",
              "      <td>Borough of Brooklyn</td>\n",
              "      <td>20</td>\n",
              "      <td>14.3</td>\n",
              "      <td>90993300</td>\n",
              "      <td>23.276802</td>\n",
              "    </tr>\n",
              "    <tr>\n",
              "      <th>2</th>\n",
              "      <td>Borough of Manhattan</td>\n",
              "      <td>9</td>\n",
              "      <td>12.2</td>\n",
              "      <td>43000400</td>\n",
              "      <td>13.111326</td>\n",
              "    </tr>\n",
              "    <tr>\n",
              "      <th>3</th>\n",
              "      <td>Borough of Queens</td>\n",
              "      <td>10</td>\n",
              "      <td>9.9</td>\n",
              "      <td>52653700</td>\n",
              "      <td>13.771555</td>\n",
              "    </tr>\n",
              "    <tr>\n",
              "      <th>4</th>\n",
              "      <td>Borough of Staten Island</td>\n",
              "      <td>12</td>\n",
              "      <td>9.0</td>\n",
              "      <td>8541100</td>\n",
              "      <td>12.919775</td>\n",
              "    </tr>\n",
              "    <tr>\n",
              "      <th>5</th>\n",
              "      <td>NYC, New York</td>\n",
              "      <td>13</td>\n",
              "      <td>12.9</td>\n",
              "      <td>241956200</td>\n",
              "      <td>20.280635</td>\n",
              "    </tr>\n",
              "  </tbody>\n",
              "</table>\n",
              "</div>"
            ],
            "text/plain": [
              "                  GEO_LABEL  ...  SNAP Benefits (% households)\n",
              "0      Borough of the Bronx  ...                     37.726117\n",
              "1       Borough of Brooklyn  ...                     23.276802\n",
              "2      Borough of Manhattan  ...                     13.111326\n",
              "3         Borough of Queens  ...                     13.771555\n",
              "4  Borough of Staten Island  ...                     12.919775\n",
              "5             NYC, New York  ...                     20.280635\n",
              "\n",
              "[6 rows x 5 columns]"
            ]
          },
          "metadata": {
            "tags": []
          },
          "execution_count": 4
        }
      ]
    },
    {
      "cell_type": "code",
      "metadata": {
        "id": "RWPFoDs1aD34",
        "colab": {
          "base_uri": "https://localhost:8080/",
          "height": 756
        },
        "outputId": "1ef77bb4-5243-45b6-b1bf-70a61aca5761"
      },
      "source": [
        "#reads file and creates dataset with food insecurity (map) data for each neighborhood\n",
        "path = '/content/drive/MyDrive/VIP - Aadiba Personal/Food Insecurity NYC neighborhoods.csv'\n",
        "fi_region = pd.read_csv(path)\n",
        "fi_region"
      ],
      "execution_count": null,
      "outputs": [
        {
          "output_type": "execute_result",
          "data": {
            "text/html": [
              "<div>\n",
              "<style scoped>\n",
              "    .dataframe tbody tr th:only-of-type {\n",
              "        vertical-align: middle;\n",
              "    }\n",
              "\n",
              "    .dataframe tbody tr th {\n",
              "        vertical-align: top;\n",
              "    }\n",
              "\n",
              "    .dataframe thead th {\n",
              "        text-align: right;\n",
              "    }\n",
              "</style>\n",
              "<table border=\"1\" class=\"dataframe\">\n",
              "  <thead>\n",
              "    <tr style=\"text-align: right;\">\n",
              "      <th></th>\n",
              "      <th>GEO_ID</th>\n",
              "      <th>GEO_LABEL</th>\n",
              "      <th>GEO_DISPLAY_NAME</th>\n",
              "      <th>Unnamed: 3</th>\n",
              "      <th>Meal Gap (# of meals needed per year for food security)</th>\n",
              "      <th>Food Insecure (% of residents)</th>\n",
              "      <th>SNAP Benefits (% households)</th>\n",
              "      <th>Bodega to Supermarket Ratio (#)</th>\n",
              "    </tr>\n",
              "  </thead>\n",
              "  <tbody>\n",
              "    <tr>\n",
              "      <th>0</th>\n",
              "      <td>3603701</td>\n",
              "      <td>Bronx Community District 8</td>\n",
              "      <td>Riverdale, Fieldston &amp; Kingsbridge</td>\n",
              "      <td>NaN</td>\n",
              "      <td>2448908.0</td>\n",
              "      <td>NaN</td>\n",
              "      <td>NaN</td>\n",
              "      <td>NaN</td>\n",
              "    </tr>\n",
              "    <tr>\n",
              "      <th>1</th>\n",
              "      <td>3603702</td>\n",
              "      <td>Bronx Community District 12</td>\n",
              "      <td>Wakefield, Williamsbridge &amp; Woodlawn</td>\n",
              "      <td>NaN</td>\n",
              "      <td>5850169.0</td>\n",
              "      <td>NaN</td>\n",
              "      <td>NaN</td>\n",
              "      <td>NaN</td>\n",
              "    </tr>\n",
              "    <tr>\n",
              "      <th>2</th>\n",
              "      <td>3603703</td>\n",
              "      <td>Bronx Community District 10</td>\n",
              "      <td>Coop City, Pelham Bay &amp; Schuylerville</td>\n",
              "      <td>NaN</td>\n",
              "      <td>2890426.0</td>\n",
              "      <td>NaN</td>\n",
              "      <td>NaN</td>\n",
              "      <td>NaN</td>\n",
              "    </tr>\n",
              "    <tr>\n",
              "      <th>3</th>\n",
              "      <td>3603704</td>\n",
              "      <td>Bronx Community District 11</td>\n",
              "      <td>Pelham Parkway, Morris Park &amp; Laconia</td>\n",
              "      <td>NaN</td>\n",
              "      <td>3532469.0</td>\n",
              "      <td>NaN</td>\n",
              "      <td>NaN</td>\n",
              "      <td>NaN</td>\n",
              "    </tr>\n",
              "    <tr>\n",
              "      <th>4</th>\n",
              "      <td>3603705</td>\n",
              "      <td>Bronx Community District 3 &amp; 6</td>\n",
              "      <td>Belmont, Crotona Park East &amp; East Tremont</td>\n",
              "      <td>NaN</td>\n",
              "      <td>6700229.0</td>\n",
              "      <td>NaN</td>\n",
              "      <td>NaN</td>\n",
              "      <td>NaN</td>\n",
              "    </tr>\n",
              "    <tr>\n",
              "      <th>...</th>\n",
              "      <td>...</td>\n",
              "      <td>...</td>\n",
              "      <td>...</td>\n",
              "      <td>...</td>\n",
              "      <td>...</td>\n",
              "      <td>...</td>\n",
              "      <td>...</td>\n",
              "      <td>...</td>\n",
              "    </tr>\n",
              "    <tr>\n",
              "      <th>2275</th>\n",
              "      <td>36085030301</td>\n",
              "      <td>Census Tract 303.01, Richmond County, New York</td>\n",
              "      <td>NaN</td>\n",
              "      <td>NaN</td>\n",
              "      <td>NaN</td>\n",
              "      <td>8.6</td>\n",
              "      <td>5.863013699</td>\n",
              "      <td>NaN</td>\n",
              "    </tr>\n",
              "    <tr>\n",
              "      <th>2276</th>\n",
              "      <td>36085030302</td>\n",
              "      <td>Census Tract 303.02, Richmond County, New York</td>\n",
              "      <td>NaN</td>\n",
              "      <td>NaN</td>\n",
              "      <td>NaN</td>\n",
              "      <td>8.3</td>\n",
              "      <td>14.30753564</td>\n",
              "      <td>NaN</td>\n",
              "    </tr>\n",
              "    <tr>\n",
              "      <th>2277</th>\n",
              "      <td>36085031901</td>\n",
              "      <td>Census Tract 319.01, Richmond County, New York</td>\n",
              "      <td>NaN</td>\n",
              "      <td>NaN</td>\n",
              "      <td>NaN</td>\n",
              "      <td>27.6</td>\n",
              "      <td>67.01421801</td>\n",
              "      <td>NaN</td>\n",
              "    </tr>\n",
              "    <tr>\n",
              "      <th>2278</th>\n",
              "      <td>36085031902</td>\n",
              "      <td>Census Tract 319.02, Richmond County, New York</td>\n",
              "      <td>NaN</td>\n",
              "      <td>NaN</td>\n",
              "      <td>NaN</td>\n",
              "      <td>16.9</td>\n",
              "      <td>33.05389222</td>\n",
              "      <td>NaN</td>\n",
              "    </tr>\n",
              "    <tr>\n",
              "      <th>2279</th>\n",
              "      <td>36085032300</td>\n",
              "      <td>Census Tract 323, Richmond County, New York</td>\n",
              "      <td>NaN</td>\n",
              "      <td>NaN</td>\n",
              "      <td>NaN</td>\n",
              "      <td>8.7</td>\n",
              "      <td>21.81818182</td>\n",
              "      <td>NaN</td>\n",
              "    </tr>\n",
              "  </tbody>\n",
              "</table>\n",
              "<p>2280 rows × 8 columns</p>\n",
              "</div>"
            ],
            "text/plain": [
              "           GEO_ID  ... Bodega to Supermarket Ratio (#)\n",
              "0         3603701  ...                             NaN\n",
              "1         3603702  ...                             NaN\n",
              "2         3603703  ...                             NaN\n",
              "3         3603704  ...                             NaN\n",
              "4         3603705  ...                             NaN\n",
              "...           ...  ...                             ...\n",
              "2275  36085030301  ...                             NaN\n",
              "2276  36085030302  ...                             NaN\n",
              "2277  36085031901  ...                             NaN\n",
              "2278  36085031902  ...                             NaN\n",
              "2279  36085032300  ...                             NaN\n",
              "\n",
              "[2280 rows x 8 columns]"
            ]
          },
          "metadata": {
            "tags": []
          },
          "execution_count": 5
        }
      ]
    },
    {
      "cell_type": "markdown",
      "metadata": {
        "id": "qGyeqopbAFdN"
      },
      "source": [
        "##### Combining and Cleaning Dataset(s)"
      ]
    },
    {
      "cell_type": "code",
      "metadata": {
        "id": "pAA8_lqIev6s",
        "colab": {
          "base_uri": "https://localhost:8080/"
        },
        "outputId": "cf3556b2-fbcf-4cbd-80cd-b882ae47b668"
      },
      "source": [
        "fi_region.rename(columns= {'GEO_ID': 'geoid'},inplace=True) #changes 'GEO_ID' column name to 'geoid' for efficiency when coding\n",
        "fi_gent = pd.merge(fi_region, gent_data, on='geoid') #combines both datasets based on common values in geoid column (variable)\n",
        "fi_gent = fi_gent[fi_gent[\"Type_1.19\"] != 'Missing Data'] #takes out observations (rows) for missing data on gentrification\n",
        "fi_gent"
      ],
      "execution_count": null,
      "outputs": [
        {
          "output_type": "execute_result",
          "data": {
            "text/html": [
              "<div>\n",
              "<style scoped>\n",
              "    .dataframe tbody tr th:only-of-type {\n",
              "        vertical-align: middle;\n",
              "    }\n",
              "\n",
              "    .dataframe tbody tr th {\n",
              "        vertical-align: top;\n",
              "    }\n",
              "\n",
              "    .dataframe thead th {\n",
              "        text-align: right;\n",
              "    }\n",
              "</style>\n",
              "<table border=\"1\" class=\"dataframe\">\n",
              "  <thead>\n",
              "    <tr style=\"text-align: right;\">\n",
              "      <th></th>\n",
              "      <th>geoid</th>\n",
              "      <th>GEO_LABEL</th>\n",
              "      <th>GEO_DISPLAY_NAME</th>\n",
              "      <th>Unnamed: 3</th>\n",
              "      <th>Meal Gap (# of meals needed per year for food security)</th>\n",
              "      <th>Food Insecure (% of residents)</th>\n",
              "      <th>SNAP Benefits (% households)</th>\n",
              "      <th>Bodega to Supermarket Ratio (#)</th>\n",
              "      <th>Type_1.19</th>\n",
              "    </tr>\n",
              "  </thead>\n",
              "  <tbody>\n",
              "    <tr>\n",
              "      <th>0</th>\n",
              "      <td>36005000100</td>\n",
              "      <td>Census Tract 1, Bronx County, New York</td>\n",
              "      <td>NaN</td>\n",
              "      <td>NaN</td>\n",
              "      <td>NaN</td>\n",
              "      <td>13.7</td>\n",
              "      <td>NaN</td>\n",
              "      <td>NaN</td>\n",
              "      <td>MHI - Stable Exclusion</td>\n",
              "    </tr>\n",
              "    <tr>\n",
              "      <th>1</th>\n",
              "      <td>36005000200</td>\n",
              "      <td>Census Tract 2, Bronx County, New York</td>\n",
              "      <td>NaN</td>\n",
              "      <td>NaN</td>\n",
              "      <td>NaN</td>\n",
              "      <td>18.7</td>\n",
              "      <td>23.19277108</td>\n",
              "      <td>NaN</td>\n",
              "      <td>MHI - Stable Exclusion</td>\n",
              "    </tr>\n",
              "    <tr>\n",
              "      <th>2</th>\n",
              "      <td>36005000400</td>\n",
              "      <td>Census Tract 4, Bronx County, New York</td>\n",
              "      <td>NaN</td>\n",
              "      <td>NaN</td>\n",
              "      <td>NaN</td>\n",
              "      <td>8.3</td>\n",
              "      <td>15.18084564</td>\n",
              "      <td>NaN</td>\n",
              "      <td>MHI - Stable Exclusion</td>\n",
              "    </tr>\n",
              "    <tr>\n",
              "      <th>3</th>\n",
              "      <td>36005001600</td>\n",
              "      <td>Census Tract 16, Bronx County, New York</td>\n",
              "      <td>NaN</td>\n",
              "      <td>NaN</td>\n",
              "      <td>NaN</td>\n",
              "      <td>15.6</td>\n",
              "      <td>34.86377397</td>\n",
              "      <td>NaN</td>\n",
              "      <td>LI - At Risk of Gentrification</td>\n",
              "    </tr>\n",
              "    <tr>\n",
              "      <th>4</th>\n",
              "      <td>36005001900</td>\n",
              "      <td>Census Tract 19, Bronx County, New York</td>\n",
              "      <td>NaN</td>\n",
              "      <td>NaN</td>\n",
              "      <td>NaN</td>\n",
              "      <td>23.1</td>\n",
              "      <td>28.09472551</td>\n",
              "      <td>NaN</td>\n",
              "      <td>LI - Ongoing Gentrification</td>\n",
              "    </tr>\n",
              "    <tr>\n",
              "      <th>...</th>\n",
              "      <td>...</td>\n",
              "      <td>...</td>\n",
              "      <td>...</td>\n",
              "      <td>...</td>\n",
              "      <td>...</td>\n",
              "      <td>...</td>\n",
              "      <td>...</td>\n",
              "      <td>...</td>\n",
              "      <td>...</td>\n",
              "    </tr>\n",
              "    <tr>\n",
              "      <th>2159</th>\n",
              "      <td>36085030301</td>\n",
              "      <td>Census Tract 303.01, Richmond County, New York</td>\n",
              "      <td>NaN</td>\n",
              "      <td>NaN</td>\n",
              "      <td>NaN</td>\n",
              "      <td>8.6</td>\n",
              "      <td>5.863013699</td>\n",
              "      <td>NaN</td>\n",
              "      <td>MHI - Stable Exclusion</td>\n",
              "    </tr>\n",
              "    <tr>\n",
              "      <th>2160</th>\n",
              "      <td>36085030302</td>\n",
              "      <td>Census Tract 303.02, Richmond County, New York</td>\n",
              "      <td>NaN</td>\n",
              "      <td>NaN</td>\n",
              "      <td>NaN</td>\n",
              "      <td>8.3</td>\n",
              "      <td>14.30753564</td>\n",
              "      <td>NaN</td>\n",
              "      <td>MHI - Ongoing Exclusion</td>\n",
              "    </tr>\n",
              "    <tr>\n",
              "      <th>2161</th>\n",
              "      <td>36085031901</td>\n",
              "      <td>Census Tract 319.01, Richmond County, New York</td>\n",
              "      <td>NaN</td>\n",
              "      <td>NaN</td>\n",
              "      <td>NaN</td>\n",
              "      <td>27.6</td>\n",
              "      <td>67.01421801</td>\n",
              "      <td>NaN</td>\n",
              "      <td>LI - Ongoing Gentrification</td>\n",
              "    </tr>\n",
              "    <tr>\n",
              "      <th>2162</th>\n",
              "      <td>36085031902</td>\n",
              "      <td>Census Tract 319.02, Richmond County, New York</td>\n",
              "      <td>NaN</td>\n",
              "      <td>NaN</td>\n",
              "      <td>NaN</td>\n",
              "      <td>16.9</td>\n",
              "      <td>33.05389222</td>\n",
              "      <td>NaN</td>\n",
              "      <td>LI - At Risk of Gentrification</td>\n",
              "    </tr>\n",
              "    <tr>\n",
              "      <th>2163</th>\n",
              "      <td>36085032300</td>\n",
              "      <td>Census Tract 323, Richmond County, New York</td>\n",
              "      <td>NaN</td>\n",
              "      <td>NaN</td>\n",
              "      <td>NaN</td>\n",
              "      <td>8.7</td>\n",
              "      <td>21.81818182</td>\n",
              "      <td>NaN</td>\n",
              "      <td>MHI - Stable Exclusion</td>\n",
              "    </tr>\n",
              "  </tbody>\n",
              "</table>\n",
              "<p>2087 rows × 9 columns</p>\n",
              "</div>"
            ],
            "text/plain": [
              "            geoid  ...                       Type_1.19\n",
              "0     36005000100  ...          MHI - Stable Exclusion\n",
              "1     36005000200  ...          MHI - Stable Exclusion\n",
              "2     36005000400  ...          MHI - Stable Exclusion\n",
              "3     36005001600  ...  LI - At Risk of Gentrification\n",
              "4     36005001900  ...     LI - Ongoing Gentrification\n",
              "...           ...  ...                             ...\n",
              "2159  36085030301  ...          MHI - Stable Exclusion\n",
              "2160  36085030302  ...         MHI - Ongoing Exclusion\n",
              "2161  36085031901  ...     LI - Ongoing Gentrification\n",
              "2162  36085031902  ...  LI - At Risk of Gentrification\n",
              "2163  36085032300  ...          MHI - Stable Exclusion\n",
              "\n",
              "[2087 rows x 9 columns]"
            ]
          },
          "metadata": {
            "tags": []
          },
          "execution_count": 377
        }
      ]
    },
    {
      "cell_type": "code",
      "metadata": {
        "id": "wkmFvfz4x95h",
        "colab": {
          "base_uri": "https://localhost:8080/"
        },
        "outputId": "e0881840-3ef0-4589-8add-5bf321623c07"
      },
      "source": [
        "#renames columns (variables) names to make it shorter and easier to read; deletes unnecessary row\n",
        "fi_gent.rename(columns= { 'GEO_LABEL': 'label', 'GEO_DISPLAY_NAME': 'name','Meal Gap (# of meals needed per year for food security)':'meal_gap', 'Food Insecure (% of residents)': 'food_insecure', 'SNAP Benefits (% households)':'snap_houses','Bodega to Supermarket Ratio (#)':'bodega_to_supermarket','Type_1.19':'gent_level' }, inplace=True)\n",
        "if 'Unnamed: 3' in fi_gent.columns:\n",
        "  del fi_gent['Unnamed: 3']\n",
        "fi_gent"
      ],
      "execution_count": null,
      "outputs": [
        {
          "output_type": "execute_result",
          "data": {
            "text/html": [
              "<div>\n",
              "<style scoped>\n",
              "    .dataframe tbody tr th:only-of-type {\n",
              "        vertical-align: middle;\n",
              "    }\n",
              "\n",
              "    .dataframe tbody tr th {\n",
              "        vertical-align: top;\n",
              "    }\n",
              "\n",
              "    .dataframe thead th {\n",
              "        text-align: right;\n",
              "    }\n",
              "</style>\n",
              "<table border=\"1\" class=\"dataframe\">\n",
              "  <thead>\n",
              "    <tr style=\"text-align: right;\">\n",
              "      <th></th>\n",
              "      <th>geoid</th>\n",
              "      <th>label</th>\n",
              "      <th>name</th>\n",
              "      <th>meal_gap</th>\n",
              "      <th>food_insecure</th>\n",
              "      <th>snap_houses</th>\n",
              "      <th>bodega_to_supermarket</th>\n",
              "      <th>gent_level</th>\n",
              "    </tr>\n",
              "  </thead>\n",
              "  <tbody>\n",
              "    <tr>\n",
              "      <th>0</th>\n",
              "      <td>36005000100</td>\n",
              "      <td>Census Tract 1, Bronx County, New York</td>\n",
              "      <td>NaN</td>\n",
              "      <td>NaN</td>\n",
              "      <td>13.7</td>\n",
              "      <td>NaN</td>\n",
              "      <td>NaN</td>\n",
              "      <td>MHI - Stable Exclusion</td>\n",
              "    </tr>\n",
              "    <tr>\n",
              "      <th>1</th>\n",
              "      <td>36005000200</td>\n",
              "      <td>Census Tract 2, Bronx County, New York</td>\n",
              "      <td>NaN</td>\n",
              "      <td>NaN</td>\n",
              "      <td>18.7</td>\n",
              "      <td>23.19277108</td>\n",
              "      <td>NaN</td>\n",
              "      <td>MHI - Stable Exclusion</td>\n",
              "    </tr>\n",
              "    <tr>\n",
              "      <th>2</th>\n",
              "      <td>36005000400</td>\n",
              "      <td>Census Tract 4, Bronx County, New York</td>\n",
              "      <td>NaN</td>\n",
              "      <td>NaN</td>\n",
              "      <td>8.3</td>\n",
              "      <td>15.18084564</td>\n",
              "      <td>NaN</td>\n",
              "      <td>MHI - Stable Exclusion</td>\n",
              "    </tr>\n",
              "    <tr>\n",
              "      <th>3</th>\n",
              "      <td>36005001600</td>\n",
              "      <td>Census Tract 16, Bronx County, New York</td>\n",
              "      <td>NaN</td>\n",
              "      <td>NaN</td>\n",
              "      <td>15.6</td>\n",
              "      <td>34.86377397</td>\n",
              "      <td>NaN</td>\n",
              "      <td>LI - At Risk of Gentrification</td>\n",
              "    </tr>\n",
              "    <tr>\n",
              "      <th>4</th>\n",
              "      <td>36005001900</td>\n",
              "      <td>Census Tract 19, Bronx County, New York</td>\n",
              "      <td>NaN</td>\n",
              "      <td>NaN</td>\n",
              "      <td>23.1</td>\n",
              "      <td>28.09472551</td>\n",
              "      <td>NaN</td>\n",
              "      <td>LI - Ongoing Gentrification</td>\n",
              "    </tr>\n",
              "    <tr>\n",
              "      <th>...</th>\n",
              "      <td>...</td>\n",
              "      <td>...</td>\n",
              "      <td>...</td>\n",
              "      <td>...</td>\n",
              "      <td>...</td>\n",
              "      <td>...</td>\n",
              "      <td>...</td>\n",
              "      <td>...</td>\n",
              "    </tr>\n",
              "    <tr>\n",
              "      <th>2159</th>\n",
              "      <td>36085030301</td>\n",
              "      <td>Census Tract 303.01, Richmond County, New York</td>\n",
              "      <td>NaN</td>\n",
              "      <td>NaN</td>\n",
              "      <td>8.6</td>\n",
              "      <td>5.863013699</td>\n",
              "      <td>NaN</td>\n",
              "      <td>MHI - Stable Exclusion</td>\n",
              "    </tr>\n",
              "    <tr>\n",
              "      <th>2160</th>\n",
              "      <td>36085030302</td>\n",
              "      <td>Census Tract 303.02, Richmond County, New York</td>\n",
              "      <td>NaN</td>\n",
              "      <td>NaN</td>\n",
              "      <td>8.3</td>\n",
              "      <td>14.30753564</td>\n",
              "      <td>NaN</td>\n",
              "      <td>MHI - Ongoing Exclusion</td>\n",
              "    </tr>\n",
              "    <tr>\n",
              "      <th>2161</th>\n",
              "      <td>36085031901</td>\n",
              "      <td>Census Tract 319.01, Richmond County, New York</td>\n",
              "      <td>NaN</td>\n",
              "      <td>NaN</td>\n",
              "      <td>27.6</td>\n",
              "      <td>67.01421801</td>\n",
              "      <td>NaN</td>\n",
              "      <td>LI - Ongoing Gentrification</td>\n",
              "    </tr>\n",
              "    <tr>\n",
              "      <th>2162</th>\n",
              "      <td>36085031902</td>\n",
              "      <td>Census Tract 319.02, Richmond County, New York</td>\n",
              "      <td>NaN</td>\n",
              "      <td>NaN</td>\n",
              "      <td>16.9</td>\n",
              "      <td>33.05389222</td>\n",
              "      <td>NaN</td>\n",
              "      <td>LI - At Risk of Gentrification</td>\n",
              "    </tr>\n",
              "    <tr>\n",
              "      <th>2163</th>\n",
              "      <td>36085032300</td>\n",
              "      <td>Census Tract 323, Richmond County, New York</td>\n",
              "      <td>NaN</td>\n",
              "      <td>NaN</td>\n",
              "      <td>8.7</td>\n",
              "      <td>21.81818182</td>\n",
              "      <td>NaN</td>\n",
              "      <td>MHI - Stable Exclusion</td>\n",
              "    </tr>\n",
              "  </tbody>\n",
              "</table>\n",
              "<p>2087 rows × 8 columns</p>\n",
              "</div>"
            ],
            "text/plain": [
              "            geoid  ...                      gent_level\n",
              "0     36005000100  ...          MHI - Stable Exclusion\n",
              "1     36005000200  ...          MHI - Stable Exclusion\n",
              "2     36005000400  ...          MHI - Stable Exclusion\n",
              "3     36005001600  ...  LI - At Risk of Gentrification\n",
              "4     36005001900  ...     LI - Ongoing Gentrification\n",
              "...           ...  ...                             ...\n",
              "2159  36085030301  ...          MHI - Stable Exclusion\n",
              "2160  36085030302  ...         MHI - Ongoing Exclusion\n",
              "2161  36085031901  ...     LI - Ongoing Gentrification\n",
              "2162  36085031902  ...  LI - At Risk of Gentrification\n",
              "2163  36085032300  ...          MHI - Stable Exclusion\n",
              "\n",
              "[2087 rows x 8 columns]"
            ]
          },
          "metadata": {
            "tags": []
          },
          "execution_count": 378
        }
      ]
    },
    {
      "cell_type": "code",
      "metadata": {
        "id": "I8b5Rmf8vCbL",
        "colab": {
          "base_uri": "https://localhost:8080/"
        },
        "outputId": "b6a23518-1f96-4417-8a69-8ad36f849a18"
      },
      "source": [
        "fi_gent.dtypes"
      ],
      "execution_count": null,
      "outputs": [
        {
          "output_type": "execute_result",
          "data": {
            "text/plain": [
              "geoid                      int64\n",
              "label                     object\n",
              "name                      object\n",
              "meal_gap                 float64\n",
              "food_insecure            float64\n",
              "snap_houses               object\n",
              "bodega_to_supermarket    float64\n",
              "gent_level                object\n",
              "dtype: object"
            ]
          },
          "metadata": {
            "tags": []
          },
          "execution_count": 379
        }
      ]
    },
    {
      "cell_type": "code",
      "metadata": {
        "id": "qfv7Sg85mz4O",
        "colab": {
          "base_uri": "https://localhost:8080/"
        },
        "outputId": "6772dc39-865c-4b04-8d22-e19e5804a666"
      },
      "source": [
        "# converts all values in each column to their correct data type to make future coding easier\n",
        "fi_gent[\"label\"] = fi_gent[\"label\"].astype(str)\n",
        "fi_gent[\"gent_level\"] = fi_gent[\"gent_level\"].astype(str)\n",
        "fi_gent[\"name\"] = fi_gent[\"name\"].astype(str)\n",
        "fi_gent['snap_houses'] = fi_gent[fi_gent['snap_houses'] != 'n']\n",
        "fi_gent[\"snap_houses\"] = fi_gent[\"snap_houses\"].astype(float)\n",
        "fi_gent.dtypes"
      ],
      "execution_count": null,
      "outputs": [
        {
          "output_type": "execute_result",
          "data": {
            "text/plain": [
              "geoid                      int64\n",
              "label                     object\n",
              "name                      object\n",
              "meal_gap                 float64\n",
              "food_insecure            float64\n",
              "snap_houses              float64\n",
              "bodega_to_supermarket    float64\n",
              "gent_level                object\n",
              "dtype: object"
            ]
          },
          "metadata": {
            "tags": []
          },
          "execution_count": 380
        }
      ]
    },
    {
      "cell_type": "markdown",
      "metadata": {
        "id": "IgvdHNROAVxh"
      },
      "source": [
        "##### Dataset shown with Food Insecurity in Ascending Order"
      ]
    },
    {
      "cell_type": "code",
      "metadata": {
        "id": "xLoNgcY4fUH2",
        "colab": {
          "base_uri": "https://localhost:8080/"
        },
        "outputId": "29f99073-5835-48e4-b667-54f7d134ceba"
      },
      "source": [
        "fi_gent.sort_values(by='food_insecure') #shows the table with food insecurity in ascending order"
      ],
      "execution_count": null,
      "outputs": [
        {
          "output_type": "execute_result",
          "data": {
            "text/html": [
              "<div>\n",
              "<style scoped>\n",
              "    .dataframe tbody tr th:only-of-type {\n",
              "        vertical-align: middle;\n",
              "    }\n",
              "\n",
              "    .dataframe tbody tr th {\n",
              "        vertical-align: top;\n",
              "    }\n",
              "\n",
              "    .dataframe thead th {\n",
              "        text-align: right;\n",
              "    }\n",
              "</style>\n",
              "<table border=\"1\" class=\"dataframe\">\n",
              "  <thead>\n",
              "    <tr style=\"text-align: right;\">\n",
              "      <th></th>\n",
              "      <th>geoid</th>\n",
              "      <th>label</th>\n",
              "      <th>name</th>\n",
              "      <th>meal_gap</th>\n",
              "      <th>food_insecure</th>\n",
              "      <th>snap_houses</th>\n",
              "      <th>bodega_to_supermarket</th>\n",
              "      <th>gent_level</th>\n",
              "    </tr>\n",
              "  </thead>\n",
              "  <tbody>\n",
              "    <tr>\n",
              "      <th>1264</th>\n",
              "      <td>36061016001</td>\n",
              "      <td>Census Tract 160.01, New York County, New York</td>\n",
              "      <td>nan</td>\n",
              "      <td>NaN</td>\n",
              "      <td>1.4</td>\n",
              "      <td>3.606102e+10</td>\n",
              "      <td>NaN</td>\n",
              "      <td>VHI - Super Gentrification or Exclusion</td>\n",
              "    </tr>\n",
              "    <tr>\n",
              "      <th>1118</th>\n",
              "      <td>36061002100</td>\n",
              "      <td>Census Tract 21, New York County, New York</td>\n",
              "      <td>nan</td>\n",
              "      <td>NaN</td>\n",
              "      <td>2.5</td>\n",
              "      <td>3.606100e+10</td>\n",
              "      <td>NaN</td>\n",
              "      <td>VHI - Super Gentrification or Exclusion</td>\n",
              "    </tr>\n",
              "    <tr>\n",
              "      <th>915</th>\n",
              "      <td>36047075200</td>\n",
              "      <td>Census Tract 752, Kings County, New York</td>\n",
              "      <td>nan</td>\n",
              "      <td>NaN</td>\n",
              "      <td>2.6</td>\n",
              "      <td>3.604708e+10</td>\n",
              "      <td>NaN</td>\n",
              "      <td>MHI - Stable Exclusion</td>\n",
              "    </tr>\n",
              "    <tr>\n",
              "      <th>867</th>\n",
              "      <td>36047064000</td>\n",
              "      <td>Census Tract 640, Kings County, New York</td>\n",
              "      <td>nan</td>\n",
              "      <td>NaN</td>\n",
              "      <td>3.0</td>\n",
              "      <td>3.604706e+10</td>\n",
              "      <td>NaN</td>\n",
              "      <td>MHI - Advanced Gentrification</td>\n",
              "    </tr>\n",
              "    <tr>\n",
              "      <th>1924</th>\n",
              "      <td>36081092200</td>\n",
              "      <td>Census Tract 922, Queens County, New York</td>\n",
              "      <td>nan</td>\n",
              "      <td>NaN</td>\n",
              "      <td>3.1</td>\n",
              "      <td>3.608109e+10</td>\n",
              "      <td>NaN</td>\n",
              "      <td>MHI - Ongoing Exclusion</td>\n",
              "    </tr>\n",
              "    <tr>\n",
              "      <th>...</th>\n",
              "      <td>...</td>\n",
              "      <td>...</td>\n",
              "      <td>...</td>\n",
              "      <td>...</td>\n",
              "      <td>...</td>\n",
              "      <td>...</td>\n",
              "      <td>...</td>\n",
              "      <td>...</td>\n",
              "    </tr>\n",
              "    <tr>\n",
              "      <th>84</th>\n",
              "      <td>36005014701</td>\n",
              "      <td>Census Tract 147.01, Bronx County, New York</td>\n",
              "      <td>nan</td>\n",
              "      <td>NaN</td>\n",
              "      <td>41.9</td>\n",
              "      <td>3.600501e+10</td>\n",
              "      <td>NaN</td>\n",
              "      <td>LI - At Risk of Gentrification</td>\n",
              "    </tr>\n",
              "    <tr>\n",
              "      <th>353</th>\n",
              "      <td>36047002300</td>\n",
              "      <td>Census Tract 23, Kings County, New York</td>\n",
              "      <td>nan</td>\n",
              "      <td>NaN</td>\n",
              "      <td>42.0</td>\n",
              "      <td>3.604700e+10</td>\n",
              "      <td>NaN</td>\n",
              "      <td>LI - At Risk of Gentrification</td>\n",
              "    </tr>\n",
              "    <tr>\n",
              "      <th>990</th>\n",
              "      <td>36047090800</td>\n",
              "      <td>Census Tract 908, Kings County, New York</td>\n",
              "      <td>nan</td>\n",
              "      <td>NaN</td>\n",
              "      <td>45.2</td>\n",
              "      <td>3.604709e+10</td>\n",
              "      <td>NaN</td>\n",
              "      <td>LI - At Risk of Gentrification</td>\n",
              "    </tr>\n",
              "    <tr>\n",
              "      <th>1662</th>\n",
              "      <td>36081042600</td>\n",
              "      <td>Census Tract 426, Queens County, New York</td>\n",
              "      <td>nan</td>\n",
              "      <td>NaN</td>\n",
              "      <td>46.8</td>\n",
              "      <td>3.608104e+10</td>\n",
              "      <td>NaN</td>\n",
              "      <td>MHI - Stable Exclusion</td>\n",
              "    </tr>\n",
              "    <tr>\n",
              "      <th>1348</th>\n",
              "      <td>36061024000</td>\n",
              "      <td>Census Tract 240, New York County, New York</td>\n",
              "      <td>nan</td>\n",
              "      <td>NaN</td>\n",
              "      <td>54.4</td>\n",
              "      <td>3.606102e+10</td>\n",
              "      <td>NaN</td>\n",
              "      <td>MHI - Stable Exclusion</td>\n",
              "    </tr>\n",
              "  </tbody>\n",
              "</table>\n",
              "<p>2087 rows × 8 columns</p>\n",
              "</div>"
            ],
            "text/plain": [
              "            geoid  ...                               gent_level\n",
              "1264  36061016001  ...  VHI - Super Gentrification or Exclusion\n",
              "1118  36061002100  ...  VHI - Super Gentrification or Exclusion\n",
              "915   36047075200  ...                   MHI - Stable Exclusion\n",
              "867   36047064000  ...            MHI - Advanced Gentrification\n",
              "1924  36081092200  ...                  MHI - Ongoing Exclusion\n",
              "...           ...  ...                                      ...\n",
              "84    36005014701  ...           LI - At Risk of Gentrification\n",
              "353   36047002300  ...           LI - At Risk of Gentrification\n",
              "990   36047090800  ...           LI - At Risk of Gentrification\n",
              "1662  36081042600  ...                   MHI - Stable Exclusion\n",
              "1348  36061024000  ...                   MHI - Stable Exclusion\n",
              "\n",
              "[2087 rows x 8 columns]"
            ]
          },
          "metadata": {
            "tags": []
          },
          "execution_count": 381
        }
      ]
    },
    {
      "cell_type": "markdown",
      "metadata": {
        "id": "ESb5rnMNAfTR"
      },
      "source": [
        "##### Creating Tables for (Observations at) Each Gentrification Level"
      ]
    },
    {
      "cell_type": "code",
      "metadata": {
        "id": "ISBer4p3e71g",
        "colab": {
          "base_uri": "https://localhost:8080/"
        },
        "outputId": "019bbad9-4fd2-46be-c824-e1451bdf3e98"
      },
      "source": [
        "fi_stabExcl = fi_gent[fi_gent['gent_level']=='MHI - Stable Exclusion'] #table for data on stable exclusion\n",
        "fi_stabExcl.head() # .head() shows first 5 observations (rows)"
      ],
      "execution_count": null,
      "outputs": [
        {
          "output_type": "execute_result",
          "data": {
            "text/html": [
              "<div>\n",
              "<style scoped>\n",
              "    .dataframe tbody tr th:only-of-type {\n",
              "        vertical-align: middle;\n",
              "    }\n",
              "\n",
              "    .dataframe tbody tr th {\n",
              "        vertical-align: top;\n",
              "    }\n",
              "\n",
              "    .dataframe thead th {\n",
              "        text-align: right;\n",
              "    }\n",
              "</style>\n",
              "<table border=\"1\" class=\"dataframe\">\n",
              "  <thead>\n",
              "    <tr style=\"text-align: right;\">\n",
              "      <th></th>\n",
              "      <th>geoid</th>\n",
              "      <th>label</th>\n",
              "      <th>name</th>\n",
              "      <th>meal_gap</th>\n",
              "      <th>food_insecure</th>\n",
              "      <th>snap_houses</th>\n",
              "      <th>bodega_to_supermarket</th>\n",
              "      <th>gent_level</th>\n",
              "    </tr>\n",
              "  </thead>\n",
              "  <tbody>\n",
              "    <tr>\n",
              "      <th>0</th>\n",
              "      <td>36005000100</td>\n",
              "      <td>Census Tract 1, Bronx County, New York</td>\n",
              "      <td>nan</td>\n",
              "      <td>NaN</td>\n",
              "      <td>13.7</td>\n",
              "      <td>3.600500e+10</td>\n",
              "      <td>NaN</td>\n",
              "      <td>MHI - Stable Exclusion</td>\n",
              "    </tr>\n",
              "    <tr>\n",
              "      <th>1</th>\n",
              "      <td>36005000200</td>\n",
              "      <td>Census Tract 2, Bronx County, New York</td>\n",
              "      <td>nan</td>\n",
              "      <td>NaN</td>\n",
              "      <td>18.7</td>\n",
              "      <td>3.600500e+10</td>\n",
              "      <td>NaN</td>\n",
              "      <td>MHI - Stable Exclusion</td>\n",
              "    </tr>\n",
              "    <tr>\n",
              "      <th>2</th>\n",
              "      <td>36005000400</td>\n",
              "      <td>Census Tract 4, Bronx County, New York</td>\n",
              "      <td>nan</td>\n",
              "      <td>NaN</td>\n",
              "      <td>8.3</td>\n",
              "      <td>3.600500e+10</td>\n",
              "      <td>NaN</td>\n",
              "      <td>MHI - Stable Exclusion</td>\n",
              "    </tr>\n",
              "    <tr>\n",
              "      <th>66</th>\n",
              "      <td>36005011800</td>\n",
              "      <td>Census Tract 118, Bronx County, New York</td>\n",
              "      <td>nan</td>\n",
              "      <td>NaN</td>\n",
              "      <td>9.1</td>\n",
              "      <td>3.600501e+10</td>\n",
              "      <td>NaN</td>\n",
              "      <td>MHI - Stable Exclusion</td>\n",
              "    </tr>\n",
              "    <tr>\n",
              "      <th>74</th>\n",
              "      <td>36005013000</td>\n",
              "      <td>Census Tract 130, Bronx County, New York</td>\n",
              "      <td>nan</td>\n",
              "      <td>NaN</td>\n",
              "      <td>9.4</td>\n",
              "      <td>3.600501e+10</td>\n",
              "      <td>NaN</td>\n",
              "      <td>MHI - Stable Exclusion</td>\n",
              "    </tr>\n",
              "  </tbody>\n",
              "</table>\n",
              "</div>"
            ],
            "text/plain": [
              "          geoid  ...              gent_level\n",
              "0   36005000100  ...  MHI - Stable Exclusion\n",
              "1   36005000200  ...  MHI - Stable Exclusion\n",
              "2   36005000400  ...  MHI - Stable Exclusion\n",
              "66  36005011800  ...  MHI - Stable Exclusion\n",
              "74  36005013000  ...  MHI - Stable Exclusion\n",
              "\n",
              "[5 rows x 8 columns]"
            ]
          },
          "metadata": {
            "tags": []
          },
          "execution_count": 382
        }
      ]
    },
    {
      "cell_type": "code",
      "metadata": {
        "id": "ZAbZpnS0iop-",
        "colab": {
          "base_uri": "https://localhost:8080/"
        },
        "outputId": "9443b9d8-5922-4c0f-e8a8-9e8b144cd213"
      },
      "source": [
        "fi_ongExcl = fi_gent[fi_gent['gent_level']=='MHI - Ongoing Exclusion'] #table for data on ongoing exclusion\n",
        "fi_ongExcl.head() "
      ],
      "execution_count": null,
      "outputs": [
        {
          "output_type": "execute_result",
          "data": {
            "text/html": [
              "<div>\n",
              "<style scoped>\n",
              "    .dataframe tbody tr th:only-of-type {\n",
              "        vertical-align: middle;\n",
              "    }\n",
              "\n",
              "    .dataframe tbody tr th {\n",
              "        vertical-align: top;\n",
              "    }\n",
              "\n",
              "    .dataframe thead th {\n",
              "        text-align: right;\n",
              "    }\n",
              "</style>\n",
              "<table border=\"1\" class=\"dataframe\">\n",
              "  <thead>\n",
              "    <tr style=\"text-align: right;\">\n",
              "      <th></th>\n",
              "      <th>geoid</th>\n",
              "      <th>label</th>\n",
              "      <th>name</th>\n",
              "      <th>meal_gap</th>\n",
              "      <th>food_insecure</th>\n",
              "      <th>snap_houses</th>\n",
              "      <th>bodega_to_supermarket</th>\n",
              "      <th>gent_level</th>\n",
              "    </tr>\n",
              "  </thead>\n",
              "  <tbody>\n",
              "    <tr>\n",
              "      <th>76</th>\n",
              "      <td>36005013200</td>\n",
              "      <td>Census Tract 132, Bronx County, New York</td>\n",
              "      <td>nan</td>\n",
              "      <td>NaN</td>\n",
              "      <td>5.7</td>\n",
              "      <td>3.600501e+10</td>\n",
              "      <td>NaN</td>\n",
              "      <td>MHI - Ongoing Exclusion</td>\n",
              "    </tr>\n",
              "    <tr>\n",
              "      <th>199</th>\n",
              "      <td>36005027401</td>\n",
              "      <td>Census Tract 274.01, Bronx County, New York</td>\n",
              "      <td>nan</td>\n",
              "      <td>NaN</td>\n",
              "      <td>6.5</td>\n",
              "      <td>3.600503e+10</td>\n",
              "      <td>NaN</td>\n",
              "      <td>MHI - Ongoing Exclusion</td>\n",
              "    </tr>\n",
              "    <tr>\n",
              "      <th>210</th>\n",
              "      <td>36005028800</td>\n",
              "      <td>Census Tract 288, Bronx County, New York</td>\n",
              "      <td>nan</td>\n",
              "      <td>NaN</td>\n",
              "      <td>11.6</td>\n",
              "      <td>3.600503e+10</td>\n",
              "      <td>NaN</td>\n",
              "      <td>MHI - Ongoing Exclusion</td>\n",
              "    </tr>\n",
              "    <tr>\n",
              "      <th>212</th>\n",
              "      <td>36005029301</td>\n",
              "      <td>Census Tract 293.01, Bronx County, New York</td>\n",
              "      <td>nan</td>\n",
              "      <td>NaN</td>\n",
              "      <td>5.4</td>\n",
              "      <td>3.600503e+10</td>\n",
              "      <td>NaN</td>\n",
              "      <td>MHI - Ongoing Exclusion</td>\n",
              "    </tr>\n",
              "    <tr>\n",
              "      <th>216</th>\n",
              "      <td>36005029700</td>\n",
              "      <td>Census Tract 297, Bronx County, New York</td>\n",
              "      <td>nan</td>\n",
              "      <td>NaN</td>\n",
              "      <td>8.9</td>\n",
              "      <td>3.600503e+10</td>\n",
              "      <td>NaN</td>\n",
              "      <td>MHI - Ongoing Exclusion</td>\n",
              "    </tr>\n",
              "  </tbody>\n",
              "</table>\n",
              "</div>"
            ],
            "text/plain": [
              "           geoid  ...               gent_level\n",
              "76   36005013200  ...  MHI - Ongoing Exclusion\n",
              "199  36005027401  ...  MHI - Ongoing Exclusion\n",
              "210  36005028800  ...  MHI - Ongoing Exclusion\n",
              "212  36005029301  ...  MHI - Ongoing Exclusion\n",
              "216  36005029700  ...  MHI - Ongoing Exclusion\n",
              "\n",
              "[5 rows x 8 columns]"
            ]
          },
          "metadata": {
            "tags": []
          },
          "execution_count": 383
        }
      ]
    },
    {
      "cell_type": "code",
      "metadata": {
        "id": "PZYUIUmZjBOX",
        "colab": {
          "base_uri": "https://localhost:8080/"
        },
        "outputId": "ccba8d1e-e04e-491c-b864-38b025384c16"
      },
      "source": [
        "fi_riskGent = fi_gent[fi_gent['gent_level']=='LI - At Risk of Gentrification'] #table for data on at risk of gentrification\n",
        "fi_riskGent.head()"
      ],
      "execution_count": null,
      "outputs": [
        {
          "output_type": "execute_result",
          "data": {
            "text/html": [
              "<div>\n",
              "<style scoped>\n",
              "    .dataframe tbody tr th:only-of-type {\n",
              "        vertical-align: middle;\n",
              "    }\n",
              "\n",
              "    .dataframe tbody tr th {\n",
              "        vertical-align: top;\n",
              "    }\n",
              "\n",
              "    .dataframe thead th {\n",
              "        text-align: right;\n",
              "    }\n",
              "</style>\n",
              "<table border=\"1\" class=\"dataframe\">\n",
              "  <thead>\n",
              "    <tr style=\"text-align: right;\">\n",
              "      <th></th>\n",
              "      <th>geoid</th>\n",
              "      <th>label</th>\n",
              "      <th>name</th>\n",
              "      <th>meal_gap</th>\n",
              "      <th>food_insecure</th>\n",
              "      <th>snap_houses</th>\n",
              "      <th>bodega_to_supermarket</th>\n",
              "      <th>gent_level</th>\n",
              "    </tr>\n",
              "  </thead>\n",
              "  <tbody>\n",
              "    <tr>\n",
              "      <th>3</th>\n",
              "      <td>36005001600</td>\n",
              "      <td>Census Tract 16, Bronx County, New York</td>\n",
              "      <td>nan</td>\n",
              "      <td>NaN</td>\n",
              "      <td>15.6</td>\n",
              "      <td>3.600500e+10</td>\n",
              "      <td>NaN</td>\n",
              "      <td>LI - At Risk of Gentrification</td>\n",
              "    </tr>\n",
              "    <tr>\n",
              "      <th>5</th>\n",
              "      <td>36005002000</td>\n",
              "      <td>Census Tract 20, Bronx County, New York</td>\n",
              "      <td>nan</td>\n",
              "      <td>NaN</td>\n",
              "      <td>28.3</td>\n",
              "      <td>3.600500e+10</td>\n",
              "      <td>NaN</td>\n",
              "      <td>LI - At Risk of Gentrification</td>\n",
              "    </tr>\n",
              "    <tr>\n",
              "      <th>6</th>\n",
              "      <td>36005002300</td>\n",
              "      <td>Census Tract 23, Bronx County, New York</td>\n",
              "      <td>nan</td>\n",
              "      <td>NaN</td>\n",
              "      <td>29.1</td>\n",
              "      <td>3.600500e+10</td>\n",
              "      <td>NaN</td>\n",
              "      <td>LI - At Risk of Gentrification</td>\n",
              "    </tr>\n",
              "    <tr>\n",
              "      <th>10</th>\n",
              "      <td>36005002702</td>\n",
              "      <td>Census Tract 27.02, Bronx County, New York</td>\n",
              "      <td>nan</td>\n",
              "      <td>NaN</td>\n",
              "      <td>29.7</td>\n",
              "      <td>3.600500e+10</td>\n",
              "      <td>NaN</td>\n",
              "      <td>LI - At Risk of Gentrification</td>\n",
              "    </tr>\n",
              "    <tr>\n",
              "      <th>13</th>\n",
              "      <td>36005003300</td>\n",
              "      <td>Census Tract 33, Bronx County, New York</td>\n",
              "      <td>nan</td>\n",
              "      <td>NaN</td>\n",
              "      <td>34.2</td>\n",
              "      <td>3.600500e+10</td>\n",
              "      <td>NaN</td>\n",
              "      <td>LI - At Risk of Gentrification</td>\n",
              "    </tr>\n",
              "  </tbody>\n",
              "</table>\n",
              "</div>"
            ],
            "text/plain": [
              "          geoid  ...                      gent_level\n",
              "3   36005001600  ...  LI - At Risk of Gentrification\n",
              "5   36005002000  ...  LI - At Risk of Gentrification\n",
              "6   36005002300  ...  LI - At Risk of Gentrification\n",
              "10  36005002702  ...  LI - At Risk of Gentrification\n",
              "13  36005003300  ...  LI - At Risk of Gentrification\n",
              "\n",
              "[5 rows x 8 columns]"
            ]
          },
          "metadata": {
            "tags": []
          },
          "execution_count": 384
        }
      ]
    },
    {
      "cell_type": "code",
      "metadata": {
        "id": "9SJME28de52d",
        "colab": {
          "base_uri": "https://localhost:8080/"
        },
        "outputId": "5f8629ea-dc03-420a-f8f9-30c531022c95"
      },
      "source": [
        "fi_noGent = fi_gent[fi_gent['gent_level']=='LI - Not Losing Low-Income Households'] #table for data on not losing low-income households\n",
        "fi_noGent.head()"
      ],
      "execution_count": null,
      "outputs": [
        {
          "output_type": "execute_result",
          "data": {
            "text/html": [
              "<div>\n",
              "<style scoped>\n",
              "    .dataframe tbody tr th:only-of-type {\n",
              "        vertical-align: middle;\n",
              "    }\n",
              "\n",
              "    .dataframe tbody tr th {\n",
              "        vertical-align: top;\n",
              "    }\n",
              "\n",
              "    .dataframe thead th {\n",
              "        text-align: right;\n",
              "    }\n",
              "</style>\n",
              "<table border=\"1\" class=\"dataframe\">\n",
              "  <thead>\n",
              "    <tr style=\"text-align: right;\">\n",
              "      <th></th>\n",
              "      <th>geoid</th>\n",
              "      <th>label</th>\n",
              "      <th>name</th>\n",
              "      <th>meal_gap</th>\n",
              "      <th>food_insecure</th>\n",
              "      <th>snap_houses</th>\n",
              "      <th>bodega_to_supermarket</th>\n",
              "      <th>gent_level</th>\n",
              "    </tr>\n",
              "  </thead>\n",
              "  <tbody>\n",
              "    <tr>\n",
              "      <th>37</th>\n",
              "      <td>36005006400</td>\n",
              "      <td>Census Tract 64, Bronx County, New York</td>\n",
              "      <td>nan</td>\n",
              "      <td>NaN</td>\n",
              "      <td>19.4</td>\n",
              "      <td>3.600501e+10</td>\n",
              "      <td>NaN</td>\n",
              "      <td>LI - Not Losing Low-Income Households</td>\n",
              "    </tr>\n",
              "    <tr>\n",
              "      <th>42</th>\n",
              "      <td>36005007000</td>\n",
              "      <td>Census Tract 70, Bronx County, New York</td>\n",
              "      <td>nan</td>\n",
              "      <td>NaN</td>\n",
              "      <td>14.1</td>\n",
              "      <td>3.600501e+10</td>\n",
              "      <td>NaN</td>\n",
              "      <td>LI - Not Losing Low-Income Households</td>\n",
              "    </tr>\n",
              "    <tr>\n",
              "      <th>44</th>\n",
              "      <td>36005007200</td>\n",
              "      <td>Census Tract 72, Bronx County, New York</td>\n",
              "      <td>nan</td>\n",
              "      <td>NaN</td>\n",
              "      <td>19.4</td>\n",
              "      <td>3.600501e+10</td>\n",
              "      <td>NaN</td>\n",
              "      <td>LI - Not Losing Low-Income Households</td>\n",
              "    </tr>\n",
              "    <tr>\n",
              "      <th>46</th>\n",
              "      <td>36005007400</td>\n",
              "      <td>Census Tract 74, Bronx County, New York</td>\n",
              "      <td>nan</td>\n",
              "      <td>NaN</td>\n",
              "      <td>17.0</td>\n",
              "      <td>3.600501e+10</td>\n",
              "      <td>NaN</td>\n",
              "      <td>LI - Not Losing Low-Income Households</td>\n",
              "    </tr>\n",
              "    <tr>\n",
              "      <th>49</th>\n",
              "      <td>36005007700</td>\n",
              "      <td>Census Tract 77, Bronx County, New York</td>\n",
              "      <td>nan</td>\n",
              "      <td>NaN</td>\n",
              "      <td>21.0</td>\n",
              "      <td>3.600501e+10</td>\n",
              "      <td>NaN</td>\n",
              "      <td>LI - Not Losing Low-Income Households</td>\n",
              "    </tr>\n",
              "  </tbody>\n",
              "</table>\n",
              "</div>"
            ],
            "text/plain": [
              "          geoid  ...                             gent_level\n",
              "37  36005006400  ...  LI - Not Losing Low-Income Households\n",
              "42  36005007000  ...  LI - Not Losing Low-Income Households\n",
              "44  36005007200  ...  LI - Not Losing Low-Income Households\n",
              "46  36005007400  ...  LI - Not Losing Low-Income Households\n",
              "49  36005007700  ...  LI - Not Losing Low-Income Households\n",
              "\n",
              "[5 rows x 8 columns]"
            ]
          },
          "metadata": {
            "tags": []
          },
          "execution_count": 385
        }
      ]
    },
    {
      "cell_type": "code",
      "metadata": {
        "id": "uxdbhw2AfK_z",
        "colab": {
          "base_uri": "https://localhost:8080/"
        },
        "outputId": "95dfbad7-a3f5-46bd-cfee-ee4c161c3029"
      },
      "source": [
        "fi_disp = fi_gent[fi_gent['gent_level']=='LI - Ongoing Displacement of Low-Income Households'] #table for data on ongoing displacement of low-income households\n",
        "fi_disp.head()"
      ],
      "execution_count": null,
      "outputs": [
        {
          "output_type": "execute_result",
          "data": {
            "text/html": [
              "<div>\n",
              "<style scoped>\n",
              "    .dataframe tbody tr th:only-of-type {\n",
              "        vertical-align: middle;\n",
              "    }\n",
              "\n",
              "    .dataframe tbody tr th {\n",
              "        vertical-align: top;\n",
              "    }\n",
              "\n",
              "    .dataframe thead th {\n",
              "        text-align: right;\n",
              "    }\n",
              "</style>\n",
              "<table border=\"1\" class=\"dataframe\">\n",
              "  <thead>\n",
              "    <tr style=\"text-align: right;\">\n",
              "      <th></th>\n",
              "      <th>geoid</th>\n",
              "      <th>label</th>\n",
              "      <th>name</th>\n",
              "      <th>meal_gap</th>\n",
              "      <th>food_insecure</th>\n",
              "      <th>snap_houses</th>\n",
              "      <th>bodega_to_supermarket</th>\n",
              "      <th>gent_level</th>\n",
              "    </tr>\n",
              "  </thead>\n",
              "  <tbody>\n",
              "    <tr>\n",
              "      <th>8</th>\n",
              "      <td>36005002500</td>\n",
              "      <td>Census Tract 25, Bronx County, New York</td>\n",
              "      <td>nan</td>\n",
              "      <td>NaN</td>\n",
              "      <td>23.3</td>\n",
              "      <td>3.600500e+10</td>\n",
              "      <td>NaN</td>\n",
              "      <td>LI - Ongoing Displacement of Low-Income Househ...</td>\n",
              "    </tr>\n",
              "    <tr>\n",
              "      <th>11</th>\n",
              "      <td>36005002800</td>\n",
              "      <td>Census Tract 28, Bronx County, New York</td>\n",
              "      <td>nan</td>\n",
              "      <td>NaN</td>\n",
              "      <td>12.7</td>\n",
              "      <td>3.600500e+10</td>\n",
              "      <td>NaN</td>\n",
              "      <td>LI - Ongoing Displacement of Low-Income Househ...</td>\n",
              "    </tr>\n",
              "    <tr>\n",
              "      <th>17</th>\n",
              "      <td>36005003900</td>\n",
              "      <td>Census Tract 39, Bronx County, New York</td>\n",
              "      <td>nan</td>\n",
              "      <td>NaN</td>\n",
              "      <td>20.0</td>\n",
              "      <td>3.600500e+10</td>\n",
              "      <td>NaN</td>\n",
              "      <td>LI - Ongoing Displacement of Low-Income Househ...</td>\n",
              "    </tr>\n",
              "    <tr>\n",
              "      <th>18</th>\n",
              "      <td>36005004001</td>\n",
              "      <td>Census Tract 40.01, Bronx County, New York</td>\n",
              "      <td>nan</td>\n",
              "      <td>NaN</td>\n",
              "      <td>13.8</td>\n",
              "      <td>3.600500e+10</td>\n",
              "      <td>NaN</td>\n",
              "      <td>LI - Ongoing Displacement of Low-Income Househ...</td>\n",
              "    </tr>\n",
              "    <tr>\n",
              "      <th>23</th>\n",
              "      <td>36005004600</td>\n",
              "      <td>Census Tract 46, Bronx County, New York</td>\n",
              "      <td>nan</td>\n",
              "      <td>NaN</td>\n",
              "      <td>22.3</td>\n",
              "      <td>3.600500e+10</td>\n",
              "      <td>NaN</td>\n",
              "      <td>LI - Ongoing Displacement of Low-Income Househ...</td>\n",
              "    </tr>\n",
              "  </tbody>\n",
              "</table>\n",
              "</div>"
            ],
            "text/plain": [
              "          geoid  ...                                         gent_level\n",
              "8   36005002500  ...  LI - Ongoing Displacement of Low-Income Househ...\n",
              "11  36005002800  ...  LI - Ongoing Displacement of Low-Income Househ...\n",
              "17  36005003900  ...  LI - Ongoing Displacement of Low-Income Househ...\n",
              "18  36005004001  ...  LI - Ongoing Displacement of Low-Income Househ...\n",
              "23  36005004600  ...  LI - Ongoing Displacement of Low-Income Househ...\n",
              "\n",
              "[5 rows x 8 columns]"
            ]
          },
          "metadata": {
            "tags": []
          },
          "execution_count": 386
        }
      ]
    },
    {
      "cell_type": "code",
      "metadata": {
        "id": "qqSQG_IdiP4O",
        "colab": {
          "base_uri": "https://localhost:8080/"
        },
        "outputId": "be60d9d0-772c-4060-cb5a-09fa9203fad2"
      },
      "source": [
        "fi_advGent = fi_gent[fi_gent['gent_level']=='MHI - Advanced Gentrification'] #table for data on advanced gentrification\n",
        "fi_advGent.head()"
      ],
      "execution_count": null,
      "outputs": [
        {
          "output_type": "execute_result",
          "data": {
            "text/html": [
              "<div>\n",
              "<style scoped>\n",
              "    .dataframe tbody tr th:only-of-type {\n",
              "        vertical-align: middle;\n",
              "    }\n",
              "\n",
              "    .dataframe tbody tr th {\n",
              "        vertical-align: top;\n",
              "    }\n",
              "\n",
              "    .dataframe thead th {\n",
              "        text-align: right;\n",
              "    }\n",
              "</style>\n",
              "<table border=\"1\" class=\"dataframe\">\n",
              "  <thead>\n",
              "    <tr style=\"text-align: right;\">\n",
              "      <th></th>\n",
              "      <th>geoid</th>\n",
              "      <th>label</th>\n",
              "      <th>name</th>\n",
              "      <th>meal_gap</th>\n",
              "      <th>food_insecure</th>\n",
              "      <th>snap_houses</th>\n",
              "      <th>bodega_to_supermarket</th>\n",
              "      <th>gent_level</th>\n",
              "    </tr>\n",
              "  </thead>\n",
              "  <tbody>\n",
              "    <tr>\n",
              "      <th>53</th>\n",
              "      <td>36005008400</td>\n",
              "      <td>Census Tract 84, Bronx County, New York</td>\n",
              "      <td>nan</td>\n",
              "      <td>NaN</td>\n",
              "      <td>7.3</td>\n",
              "      <td>3.600501e+10</td>\n",
              "      <td>NaN</td>\n",
              "      <td>MHI - Advanced Gentrification</td>\n",
              "    </tr>\n",
              "    <tr>\n",
              "      <th>278</th>\n",
              "      <td>36005038800</td>\n",
              "      <td>Census Tract 388, Bronx County, New York</td>\n",
              "      <td>nan</td>\n",
              "      <td>NaN</td>\n",
              "      <td>16.6</td>\n",
              "      <td>3.600504e+10</td>\n",
              "      <td>NaN</td>\n",
              "      <td>MHI - Advanced Gentrification</td>\n",
              "    </tr>\n",
              "    <tr>\n",
              "      <th>348</th>\n",
              "      <td>36047001500</td>\n",
              "      <td>Census Tract 15, Kings County, New York</td>\n",
              "      <td>nan</td>\n",
              "      <td>NaN</td>\n",
              "      <td>16.8</td>\n",
              "      <td>3.604700e+10</td>\n",
              "      <td>NaN</td>\n",
              "      <td>MHI - Advanced Gentrification</td>\n",
              "    </tr>\n",
              "    <tr>\n",
              "      <th>350</th>\n",
              "      <td>36047002000</td>\n",
              "      <td>Census Tract 20, Kings County, New York</td>\n",
              "      <td>nan</td>\n",
              "      <td>NaN</td>\n",
              "      <td>16.6</td>\n",
              "      <td>3.604700e+10</td>\n",
              "      <td>NaN</td>\n",
              "      <td>MHI - Advanced Gentrification</td>\n",
              "    </tr>\n",
              "    <tr>\n",
              "      <th>361</th>\n",
              "      <td>36047003700</td>\n",
              "      <td>Census Tract 37, Kings County, New York</td>\n",
              "      <td>nan</td>\n",
              "      <td>NaN</td>\n",
              "      <td>6.3</td>\n",
              "      <td>3.604700e+10</td>\n",
              "      <td>NaN</td>\n",
              "      <td>MHI - Advanced Gentrification</td>\n",
              "    </tr>\n",
              "  </tbody>\n",
              "</table>\n",
              "</div>"
            ],
            "text/plain": [
              "           geoid  ...                     gent_level\n",
              "53   36005008400  ...  MHI - Advanced Gentrification\n",
              "278  36005038800  ...  MHI - Advanced Gentrification\n",
              "348  36047001500  ...  MHI - Advanced Gentrification\n",
              "350  36047002000  ...  MHI - Advanced Gentrification\n",
              "361  36047003700  ...  MHI - Advanced Gentrification\n",
              "\n",
              "[5 rows x 8 columns]"
            ]
          },
          "metadata": {
            "tags": []
          },
          "execution_count": 387
        }
      ]
    },
    {
      "cell_type": "code",
      "metadata": {
        "id": "TPuu3YcUjNJK",
        "colab": {
          "base_uri": "https://localhost:8080/"
        },
        "outputId": "13ec59c2-3cc8-47c9-fb9b-682629448021"
      },
      "source": [
        "fi_superGent = fi_gent[fi_gent['gent_level']=='VHI - Super Gentrification or Exclusion'] #table for data on super gentrification or exclusion\n",
        "fi_superGent.head()"
      ],
      "execution_count": null,
      "outputs": [
        {
          "output_type": "execute_result",
          "data": {
            "text/html": [
              "<div>\n",
              "<style scoped>\n",
              "    .dataframe tbody tr th:only-of-type {\n",
              "        vertical-align: middle;\n",
              "    }\n",
              "\n",
              "    .dataframe tbody tr th {\n",
              "        vertical-align: top;\n",
              "    }\n",
              "\n",
              "    .dataframe thead th {\n",
              "        text-align: right;\n",
              "    }\n",
              "</style>\n",
              "<table border=\"1\" class=\"dataframe\">\n",
              "  <thead>\n",
              "    <tr style=\"text-align: right;\">\n",
              "      <th></th>\n",
              "      <th>geoid</th>\n",
              "      <th>label</th>\n",
              "      <th>name</th>\n",
              "      <th>meal_gap</th>\n",
              "      <th>food_insecure</th>\n",
              "      <th>snap_houses</th>\n",
              "      <th>bodega_to_supermarket</th>\n",
              "      <th>gent_level</th>\n",
              "    </tr>\n",
              "  </thead>\n",
              "  <tbody>\n",
              "    <tr>\n",
              "      <th>351</th>\n",
              "      <td>36047002100</td>\n",
              "      <td>Census Tract 21, Kings County, New York</td>\n",
              "      <td>nan</td>\n",
              "      <td>NaN</td>\n",
              "      <td>6.1</td>\n",
              "      <td>3.604700e+10</td>\n",
              "      <td>NaN</td>\n",
              "      <td>VHI - Super Gentrification or Exclusion</td>\n",
              "    </tr>\n",
              "    <tr>\n",
              "      <th>387</th>\n",
              "      <td>36047006700</td>\n",
              "      <td>Census Tract 67, Kings County, New York</td>\n",
              "      <td>nan</td>\n",
              "      <td>NaN</td>\n",
              "      <td>6.5</td>\n",
              "      <td>3.604701e+10</td>\n",
              "      <td>NaN</td>\n",
              "      <td>VHI - Super Gentrification or Exclusion</td>\n",
              "    </tr>\n",
              "    <tr>\n",
              "      <th>451</th>\n",
              "      <td>36047015300</td>\n",
              "      <td>Census Tract 153, Kings County, New York</td>\n",
              "      <td>nan</td>\n",
              "      <td>NaN</td>\n",
              "      <td>8.1</td>\n",
              "      <td>3.604702e+10</td>\n",
              "      <td>NaN</td>\n",
              "      <td>VHI - Super Gentrification or Exclusion</td>\n",
              "    </tr>\n",
              "    <tr>\n",
              "      <th>461</th>\n",
              "      <td>36047016500</td>\n",
              "      <td>Census Tract 165, Kings County, New York</td>\n",
              "      <td>nan</td>\n",
              "      <td>NaN</td>\n",
              "      <td>4.5</td>\n",
              "      <td>3.604702e+10</td>\n",
              "      <td>NaN</td>\n",
              "      <td>VHI - Super Gentrification or Exclusion</td>\n",
              "    </tr>\n",
              "    <tr>\n",
              "      <th>1106</th>\n",
              "      <td>36061000900</td>\n",
              "      <td>Census Tract 9, New York County, New York</td>\n",
              "      <td>nan</td>\n",
              "      <td>NaN</td>\n",
              "      <td>6.1</td>\n",
              "      <td>3.606100e+10</td>\n",
              "      <td>NaN</td>\n",
              "      <td>VHI - Super Gentrification or Exclusion</td>\n",
              "    </tr>\n",
              "  </tbody>\n",
              "</table>\n",
              "</div>"
            ],
            "text/plain": [
              "            geoid  ...                               gent_level\n",
              "351   36047002100  ...  VHI - Super Gentrification or Exclusion\n",
              "387   36047006700  ...  VHI - Super Gentrification or Exclusion\n",
              "451   36047015300  ...  VHI - Super Gentrification or Exclusion\n",
              "461   36047016500  ...  VHI - Super Gentrification or Exclusion\n",
              "1106  36061000900  ...  VHI - Super Gentrification or Exclusion\n",
              "\n",
              "[5 rows x 8 columns]"
            ]
          },
          "metadata": {
            "tags": []
          },
          "execution_count": 388
        }
      ]
    },
    {
      "cell_type": "code",
      "metadata": {
        "id": "NNqEnIFbjfFg",
        "colab": {
          "base_uri": "https://localhost:8080/"
        },
        "outputId": "0a3a2cb2-ed3a-42ef-9ba4-3fd2ce762135"
      },
      "source": [
        "fi_ongGent = fi_gent[fi_gent['gent_level']=='LI - Ongoing Gentrification'] #table for data on ongoing gentrification\n",
        "fi_ongGent.head()"
      ],
      "execution_count": null,
      "outputs": [
        {
          "output_type": "execute_result",
          "data": {
            "text/html": [
              "<div>\n",
              "<style scoped>\n",
              "    .dataframe tbody tr th:only-of-type {\n",
              "        vertical-align: middle;\n",
              "    }\n",
              "\n",
              "    .dataframe tbody tr th {\n",
              "        vertical-align: top;\n",
              "    }\n",
              "\n",
              "    .dataframe thead th {\n",
              "        text-align: right;\n",
              "    }\n",
              "</style>\n",
              "<table border=\"1\" class=\"dataframe\">\n",
              "  <thead>\n",
              "    <tr style=\"text-align: right;\">\n",
              "      <th></th>\n",
              "      <th>geoid</th>\n",
              "      <th>label</th>\n",
              "      <th>name</th>\n",
              "      <th>meal_gap</th>\n",
              "      <th>food_insecure</th>\n",
              "      <th>snap_houses</th>\n",
              "      <th>bodega_to_supermarket</th>\n",
              "      <th>gent_level</th>\n",
              "    </tr>\n",
              "  </thead>\n",
              "  <tbody>\n",
              "    <tr>\n",
              "      <th>4</th>\n",
              "      <td>36005001900</td>\n",
              "      <td>Census Tract 19, Bronx County, New York</td>\n",
              "      <td>nan</td>\n",
              "      <td>NaN</td>\n",
              "      <td>23.1</td>\n",
              "      <td>3.600500e+10</td>\n",
              "      <td>NaN</td>\n",
              "      <td>LI - Ongoing Gentrification</td>\n",
              "    </tr>\n",
              "    <tr>\n",
              "      <th>9</th>\n",
              "      <td>36005002701</td>\n",
              "      <td>Census Tract 27.01, Bronx County, New York</td>\n",
              "      <td>nan</td>\n",
              "      <td>NaN</td>\n",
              "      <td>26.3</td>\n",
              "      <td>3.600500e+10</td>\n",
              "      <td>NaN</td>\n",
              "      <td>LI - Ongoing Gentrification</td>\n",
              "    </tr>\n",
              "    <tr>\n",
              "      <th>12</th>\n",
              "      <td>36005003100</td>\n",
              "      <td>Census Tract 31, Bronx County, New York</td>\n",
              "      <td>nan</td>\n",
              "      <td>NaN</td>\n",
              "      <td>12.5</td>\n",
              "      <td>3.600500e+10</td>\n",
              "      <td>NaN</td>\n",
              "      <td>LI - Ongoing Gentrification</td>\n",
              "    </tr>\n",
              "    <tr>\n",
              "      <th>21</th>\n",
              "      <td>36005004300</td>\n",
              "      <td>Census Tract 43, Bronx County, New York</td>\n",
              "      <td>nan</td>\n",
              "      <td>NaN</td>\n",
              "      <td>27.7</td>\n",
              "      <td>3.600500e+10</td>\n",
              "      <td>NaN</td>\n",
              "      <td>LI - Ongoing Gentrification</td>\n",
              "    </tr>\n",
              "    <tr>\n",
              "      <th>41</th>\n",
              "      <td>36005006900</td>\n",
              "      <td>Census Tract 69, Bronx County, New York</td>\n",
              "      <td>nan</td>\n",
              "      <td>NaN</td>\n",
              "      <td>21.0</td>\n",
              "      <td>3.600501e+10</td>\n",
              "      <td>NaN</td>\n",
              "      <td>LI - Ongoing Gentrification</td>\n",
              "    </tr>\n",
              "  </tbody>\n",
              "</table>\n",
              "</div>"
            ],
            "text/plain": [
              "          geoid  ...                   gent_level\n",
              "4   36005001900  ...  LI - Ongoing Gentrification\n",
              "9   36005002701  ...  LI - Ongoing Gentrification\n",
              "12  36005003100  ...  LI - Ongoing Gentrification\n",
              "21  36005004300  ...  LI - Ongoing Gentrification\n",
              "41  36005006900  ...  LI - Ongoing Gentrification\n",
              "\n",
              "[5 rows x 8 columns]"
            ]
          },
          "metadata": {
            "tags": []
          },
          "execution_count": 389
        }
      ]
    },
    {
      "cell_type": "markdown",
      "metadata": {
        "id": "64QrU9-ZAyPN"
      },
      "source": [
        "##### Creating Tables for (Observations at) Different Food Insecurity Levels"
      ]
    },
    {
      "cell_type": "code",
      "metadata": {
        "id": "fJjmjzIfnAJO",
        "colab": {
          "base_uri": "https://localhost:8080/"
        },
        "outputId": "10f556c8-a6bb-4caf-9ce7-fb764a45434c"
      },
      "source": [
        "mask = (fi_gent['food_insecure'] <= 10) \n",
        "veryLow_fi = fi_gent[mask] #table for locations with 'very' low food insecurity (0-10%)\n",
        "veryLow_fi.head()"
      ],
      "execution_count": null,
      "outputs": [
        {
          "output_type": "execute_result",
          "data": {
            "text/html": [
              "<div>\n",
              "<style scoped>\n",
              "    .dataframe tbody tr th:only-of-type {\n",
              "        vertical-align: middle;\n",
              "    }\n",
              "\n",
              "    .dataframe tbody tr th {\n",
              "        vertical-align: top;\n",
              "    }\n",
              "\n",
              "    .dataframe thead th {\n",
              "        text-align: right;\n",
              "    }\n",
              "</style>\n",
              "<table border=\"1\" class=\"dataframe\">\n",
              "  <thead>\n",
              "    <tr style=\"text-align: right;\">\n",
              "      <th></th>\n",
              "      <th>geoid</th>\n",
              "      <th>label</th>\n",
              "      <th>name</th>\n",
              "      <th>meal_gap</th>\n",
              "      <th>food_insecure</th>\n",
              "      <th>snap_houses</th>\n",
              "      <th>bodega_to_supermarket</th>\n",
              "      <th>gent_level</th>\n",
              "    </tr>\n",
              "  </thead>\n",
              "  <tbody>\n",
              "    <tr>\n",
              "      <th>2</th>\n",
              "      <td>36005000400</td>\n",
              "      <td>Census Tract 4, Bronx County, New York</td>\n",
              "      <td>nan</td>\n",
              "      <td>NaN</td>\n",
              "      <td>8.3</td>\n",
              "      <td>3.600500e+10</td>\n",
              "      <td>NaN</td>\n",
              "      <td>MHI - Stable Exclusion</td>\n",
              "    </tr>\n",
              "    <tr>\n",
              "      <th>53</th>\n",
              "      <td>36005008400</td>\n",
              "      <td>Census Tract 84, Bronx County, New York</td>\n",
              "      <td>nan</td>\n",
              "      <td>NaN</td>\n",
              "      <td>7.3</td>\n",
              "      <td>3.600501e+10</td>\n",
              "      <td>NaN</td>\n",
              "      <td>MHI - Advanced Gentrification</td>\n",
              "    </tr>\n",
              "    <tr>\n",
              "      <th>62</th>\n",
              "      <td>36005009800</td>\n",
              "      <td>Census Tract 98, Bronx County, New York</td>\n",
              "      <td>nan</td>\n",
              "      <td>NaN</td>\n",
              "      <td>9.3</td>\n",
              "      <td>3.600501e+10</td>\n",
              "      <td>NaN</td>\n",
              "      <td>LI - Ongoing Displacement of Low-Income Househ...</td>\n",
              "    </tr>\n",
              "    <tr>\n",
              "      <th>66</th>\n",
              "      <td>36005011800</td>\n",
              "      <td>Census Tract 118, Bronx County, New York</td>\n",
              "      <td>nan</td>\n",
              "      <td>NaN</td>\n",
              "      <td>9.1</td>\n",
              "      <td>3.600501e+10</td>\n",
              "      <td>NaN</td>\n",
              "      <td>MHI - Stable Exclusion</td>\n",
              "    </tr>\n",
              "    <tr>\n",
              "      <th>74</th>\n",
              "      <td>36005013000</td>\n",
              "      <td>Census Tract 130, Bronx County, New York</td>\n",
              "      <td>nan</td>\n",
              "      <td>NaN</td>\n",
              "      <td>9.4</td>\n",
              "      <td>3.600501e+10</td>\n",
              "      <td>NaN</td>\n",
              "      <td>MHI - Stable Exclusion</td>\n",
              "    </tr>\n",
              "  </tbody>\n",
              "</table>\n",
              "</div>"
            ],
            "text/plain": [
              "          geoid  ...                                         gent_level\n",
              "2   36005000400  ...                             MHI - Stable Exclusion\n",
              "53  36005008400  ...                      MHI - Advanced Gentrification\n",
              "62  36005009800  ...  LI - Ongoing Displacement of Low-Income Househ...\n",
              "66  36005011800  ...                             MHI - Stable Exclusion\n",
              "74  36005013000  ...                             MHI - Stable Exclusion\n",
              "\n",
              "[5 rows x 8 columns]"
            ]
          },
          "metadata": {
            "tags": []
          },
          "execution_count": 390
        }
      ]
    },
    {
      "cell_type": "code",
      "metadata": {
        "id": "Jjd4S9gtrDE6",
        "colab": {
          "base_uri": "https://localhost:8080/"
        },
        "outputId": "beeb2546-202c-4d70-ac57-a1a0e2c937fc"
      },
      "source": [
        "mask = (fi_gent['food_insecure'] > 10 ) & (fi_gent['food_insecure'] <= 20) \n",
        "low_fi = fi_gent[mask] #table for locations with low food insecurity (10-20% with 10% being exclusive)\n",
        "low_fi.head()"
      ],
      "execution_count": null,
      "outputs": [
        {
          "output_type": "execute_result",
          "data": {
            "text/html": [
              "<div>\n",
              "<style scoped>\n",
              "    .dataframe tbody tr th:only-of-type {\n",
              "        vertical-align: middle;\n",
              "    }\n",
              "\n",
              "    .dataframe tbody tr th {\n",
              "        vertical-align: top;\n",
              "    }\n",
              "\n",
              "    .dataframe thead th {\n",
              "        text-align: right;\n",
              "    }\n",
              "</style>\n",
              "<table border=\"1\" class=\"dataframe\">\n",
              "  <thead>\n",
              "    <tr style=\"text-align: right;\">\n",
              "      <th></th>\n",
              "      <th>geoid</th>\n",
              "      <th>label</th>\n",
              "      <th>name</th>\n",
              "      <th>meal_gap</th>\n",
              "      <th>food_insecure</th>\n",
              "      <th>snap_houses</th>\n",
              "      <th>bodega_to_supermarket</th>\n",
              "      <th>gent_level</th>\n",
              "    </tr>\n",
              "  </thead>\n",
              "  <tbody>\n",
              "    <tr>\n",
              "      <th>0</th>\n",
              "      <td>36005000100</td>\n",
              "      <td>Census Tract 1, Bronx County, New York</td>\n",
              "      <td>nan</td>\n",
              "      <td>NaN</td>\n",
              "      <td>13.7</td>\n",
              "      <td>3.600500e+10</td>\n",
              "      <td>NaN</td>\n",
              "      <td>MHI - Stable Exclusion</td>\n",
              "    </tr>\n",
              "    <tr>\n",
              "      <th>1</th>\n",
              "      <td>36005000200</td>\n",
              "      <td>Census Tract 2, Bronx County, New York</td>\n",
              "      <td>nan</td>\n",
              "      <td>NaN</td>\n",
              "      <td>18.7</td>\n",
              "      <td>3.600500e+10</td>\n",
              "      <td>NaN</td>\n",
              "      <td>MHI - Stable Exclusion</td>\n",
              "    </tr>\n",
              "    <tr>\n",
              "      <th>3</th>\n",
              "      <td>36005001600</td>\n",
              "      <td>Census Tract 16, Bronx County, New York</td>\n",
              "      <td>nan</td>\n",
              "      <td>NaN</td>\n",
              "      <td>15.6</td>\n",
              "      <td>3.600500e+10</td>\n",
              "      <td>NaN</td>\n",
              "      <td>LI - At Risk of Gentrification</td>\n",
              "    </tr>\n",
              "    <tr>\n",
              "      <th>11</th>\n",
              "      <td>36005002800</td>\n",
              "      <td>Census Tract 28, Bronx County, New York</td>\n",
              "      <td>nan</td>\n",
              "      <td>NaN</td>\n",
              "      <td>12.7</td>\n",
              "      <td>3.600500e+10</td>\n",
              "      <td>NaN</td>\n",
              "      <td>LI - Ongoing Displacement of Low-Income Househ...</td>\n",
              "    </tr>\n",
              "    <tr>\n",
              "      <th>12</th>\n",
              "      <td>36005003100</td>\n",
              "      <td>Census Tract 31, Bronx County, New York</td>\n",
              "      <td>nan</td>\n",
              "      <td>NaN</td>\n",
              "      <td>12.5</td>\n",
              "      <td>3.600500e+10</td>\n",
              "      <td>NaN</td>\n",
              "      <td>LI - Ongoing Gentrification</td>\n",
              "    </tr>\n",
              "  </tbody>\n",
              "</table>\n",
              "</div>"
            ],
            "text/plain": [
              "          geoid  ...                                         gent_level\n",
              "0   36005000100  ...                             MHI - Stable Exclusion\n",
              "1   36005000200  ...                             MHI - Stable Exclusion\n",
              "3   36005001600  ...                     LI - At Risk of Gentrification\n",
              "11  36005002800  ...  LI - Ongoing Displacement of Low-Income Househ...\n",
              "12  36005003100  ...                        LI - Ongoing Gentrification\n",
              "\n",
              "[5 rows x 8 columns]"
            ]
          },
          "metadata": {
            "tags": []
          },
          "execution_count": 391
        }
      ]
    },
    {
      "cell_type": "code",
      "metadata": {
        "id": "3c4vQAHosK39",
        "colab": {
          "base_uri": "https://localhost:8080/"
        },
        "outputId": "8a6dadf6-2a2b-4286-9064-9c3bf24d9f52"
      },
      "source": [
        "mask = (fi_gent['food_insecure'] > 20 ) & (fi_gent['food_insecure'] <= 30) \n",
        "med_fi = fi_gent[mask] #table for locations with medium food insecurity (20-30% with 20% being exclusive)\n",
        "med_fi.head()"
      ],
      "execution_count": null,
      "outputs": [
        {
          "output_type": "execute_result",
          "data": {
            "text/html": [
              "<div>\n",
              "<style scoped>\n",
              "    .dataframe tbody tr th:only-of-type {\n",
              "        vertical-align: middle;\n",
              "    }\n",
              "\n",
              "    .dataframe tbody tr th {\n",
              "        vertical-align: top;\n",
              "    }\n",
              "\n",
              "    .dataframe thead th {\n",
              "        text-align: right;\n",
              "    }\n",
              "</style>\n",
              "<table border=\"1\" class=\"dataframe\">\n",
              "  <thead>\n",
              "    <tr style=\"text-align: right;\">\n",
              "      <th></th>\n",
              "      <th>geoid</th>\n",
              "      <th>label</th>\n",
              "      <th>name</th>\n",
              "      <th>meal_gap</th>\n",
              "      <th>food_insecure</th>\n",
              "      <th>snap_houses</th>\n",
              "      <th>bodega_to_supermarket</th>\n",
              "      <th>gent_level</th>\n",
              "    </tr>\n",
              "  </thead>\n",
              "  <tbody>\n",
              "    <tr>\n",
              "      <th>4</th>\n",
              "      <td>36005001900</td>\n",
              "      <td>Census Tract 19, Bronx County, New York</td>\n",
              "      <td>nan</td>\n",
              "      <td>NaN</td>\n",
              "      <td>23.1</td>\n",
              "      <td>3.600500e+10</td>\n",
              "      <td>NaN</td>\n",
              "      <td>LI - Ongoing Gentrification</td>\n",
              "    </tr>\n",
              "    <tr>\n",
              "      <th>5</th>\n",
              "      <td>36005002000</td>\n",
              "      <td>Census Tract 20, Bronx County, New York</td>\n",
              "      <td>nan</td>\n",
              "      <td>NaN</td>\n",
              "      <td>28.3</td>\n",
              "      <td>3.600500e+10</td>\n",
              "      <td>NaN</td>\n",
              "      <td>LI - At Risk of Gentrification</td>\n",
              "    </tr>\n",
              "    <tr>\n",
              "      <th>6</th>\n",
              "      <td>36005002300</td>\n",
              "      <td>Census Tract 23, Bronx County, New York</td>\n",
              "      <td>nan</td>\n",
              "      <td>NaN</td>\n",
              "      <td>29.1</td>\n",
              "      <td>3.600500e+10</td>\n",
              "      <td>NaN</td>\n",
              "      <td>LI - At Risk of Gentrification</td>\n",
              "    </tr>\n",
              "    <tr>\n",
              "      <th>8</th>\n",
              "      <td>36005002500</td>\n",
              "      <td>Census Tract 25, Bronx County, New York</td>\n",
              "      <td>nan</td>\n",
              "      <td>NaN</td>\n",
              "      <td>23.3</td>\n",
              "      <td>3.600500e+10</td>\n",
              "      <td>NaN</td>\n",
              "      <td>LI - Ongoing Displacement of Low-Income Househ...</td>\n",
              "    </tr>\n",
              "    <tr>\n",
              "      <th>9</th>\n",
              "      <td>36005002701</td>\n",
              "      <td>Census Tract 27.01, Bronx County, New York</td>\n",
              "      <td>nan</td>\n",
              "      <td>NaN</td>\n",
              "      <td>26.3</td>\n",
              "      <td>3.600500e+10</td>\n",
              "      <td>NaN</td>\n",
              "      <td>LI - Ongoing Gentrification</td>\n",
              "    </tr>\n",
              "  </tbody>\n",
              "</table>\n",
              "</div>"
            ],
            "text/plain": [
              "         geoid  ...                                         gent_level\n",
              "4  36005001900  ...                        LI - Ongoing Gentrification\n",
              "5  36005002000  ...                     LI - At Risk of Gentrification\n",
              "6  36005002300  ...                     LI - At Risk of Gentrification\n",
              "8  36005002500  ...  LI - Ongoing Displacement of Low-Income Househ...\n",
              "9  36005002701  ...                        LI - Ongoing Gentrification\n",
              "\n",
              "[5 rows x 8 columns]"
            ]
          },
          "metadata": {
            "tags": []
          },
          "execution_count": 392
        }
      ]
    },
    {
      "cell_type": "code",
      "metadata": {
        "id": "TY2eD7eBsbMt",
        "colab": {
          "base_uri": "https://localhost:8080/"
        },
        "outputId": "e3b27e0e-d625-4dc0-becb-d1cd6dbb9417"
      },
      "source": [
        "mask = (fi_gent['food_insecure'] > 30 ) & (fi_gent['food_insecure'] <= 40) \n",
        "high_fi = fi_gent[mask] #table for locations with high food insecurity (30-40% with 40% being exclusive)\n",
        "high_fi.head()"
      ],
      "execution_count": null,
      "outputs": [
        {
          "output_type": "execute_result",
          "data": {
            "text/html": [
              "<div>\n",
              "<style scoped>\n",
              "    .dataframe tbody tr th:only-of-type {\n",
              "        vertical-align: middle;\n",
              "    }\n",
              "\n",
              "    .dataframe tbody tr th {\n",
              "        vertical-align: top;\n",
              "    }\n",
              "\n",
              "    .dataframe thead th {\n",
              "        text-align: right;\n",
              "    }\n",
              "</style>\n",
              "<table border=\"1\" class=\"dataframe\">\n",
              "  <thead>\n",
              "    <tr style=\"text-align: right;\">\n",
              "      <th></th>\n",
              "      <th>geoid</th>\n",
              "      <th>label</th>\n",
              "      <th>name</th>\n",
              "      <th>meal_gap</th>\n",
              "      <th>food_insecure</th>\n",
              "      <th>snap_houses</th>\n",
              "      <th>bodega_to_supermarket</th>\n",
              "      <th>gent_level</th>\n",
              "    </tr>\n",
              "  </thead>\n",
              "  <tbody>\n",
              "    <tr>\n",
              "      <th>13</th>\n",
              "      <td>36005003300</td>\n",
              "      <td>Census Tract 33, Bronx County, New York</td>\n",
              "      <td>nan</td>\n",
              "      <td>NaN</td>\n",
              "      <td>34.2</td>\n",
              "      <td>3.600500e+10</td>\n",
              "      <td>NaN</td>\n",
              "      <td>LI - At Risk of Gentrification</td>\n",
              "    </tr>\n",
              "    <tr>\n",
              "      <th>22</th>\n",
              "      <td>36005004400</td>\n",
              "      <td>Census Tract 44, Bronx County, New York</td>\n",
              "      <td>nan</td>\n",
              "      <td>NaN</td>\n",
              "      <td>31.5</td>\n",
              "      <td>3.600500e+10</td>\n",
              "      <td>NaN</td>\n",
              "      <td>LI - At Risk of Gentrification</td>\n",
              "    </tr>\n",
              "    <tr>\n",
              "      <th>29</th>\n",
              "      <td>36005005300</td>\n",
              "      <td>Census Tract 53, Bronx County, New York</td>\n",
              "      <td>nan</td>\n",
              "      <td>NaN</td>\n",
              "      <td>38.2</td>\n",
              "      <td>3.600501e+10</td>\n",
              "      <td>NaN</td>\n",
              "      <td>LI - At Risk of Gentrification</td>\n",
              "    </tr>\n",
              "    <tr>\n",
              "      <th>69</th>\n",
              "      <td>36005012102</td>\n",
              "      <td>Census Tract 121.02, Bronx County, New York</td>\n",
              "      <td>nan</td>\n",
              "      <td>NaN</td>\n",
              "      <td>30.8</td>\n",
              "      <td>3.600501e+10</td>\n",
              "      <td>NaN</td>\n",
              "      <td>LI - At Risk of Gentrification</td>\n",
              "    </tr>\n",
              "    <tr>\n",
              "      <th>168</th>\n",
              "      <td>36005023704</td>\n",
              "      <td>Census Tract 237.04, Bronx County, New York</td>\n",
              "      <td>nan</td>\n",
              "      <td>NaN</td>\n",
              "      <td>30.2</td>\n",
              "      <td>3.600502e+10</td>\n",
              "      <td>NaN</td>\n",
              "      <td>LI - Ongoing Gentrification</td>\n",
              "    </tr>\n",
              "  </tbody>\n",
              "</table>\n",
              "</div>"
            ],
            "text/plain": [
              "           geoid  ...                      gent_level\n",
              "13   36005003300  ...  LI - At Risk of Gentrification\n",
              "22   36005004400  ...  LI - At Risk of Gentrification\n",
              "29   36005005300  ...  LI - At Risk of Gentrification\n",
              "69   36005012102  ...  LI - At Risk of Gentrification\n",
              "168  36005023704  ...     LI - Ongoing Gentrification\n",
              "\n",
              "[5 rows x 8 columns]"
            ]
          },
          "metadata": {
            "tags": []
          },
          "execution_count": 393
        }
      ]
    },
    {
      "cell_type": "code",
      "metadata": {
        "id": "aVG2C4r_s464",
        "colab": {
          "base_uri": "https://localhost:8080/"
        },
        "outputId": "443b8295-dc96-49eb-a08c-c7c36c5a0217"
      },
      "source": [
        "mask = (fi_gent['food_insecure'] > 40 ) \n",
        "veryHigh_fi = fi_gent[mask] #table for locations with 'very' high food insecurity (above 40%)\n",
        "veryHigh_fi.head()"
      ],
      "execution_count": null,
      "outputs": [
        {
          "output_type": "execute_result",
          "data": {
            "text/html": [
              "<div>\n",
              "<style scoped>\n",
              "    .dataframe tbody tr th:only-of-type {\n",
              "        vertical-align: middle;\n",
              "    }\n",
              "\n",
              "    .dataframe tbody tr th {\n",
              "        vertical-align: top;\n",
              "    }\n",
              "\n",
              "    .dataframe thead th {\n",
              "        text-align: right;\n",
              "    }\n",
              "</style>\n",
              "<table border=\"1\" class=\"dataframe\">\n",
              "  <thead>\n",
              "    <tr style=\"text-align: right;\">\n",
              "      <th></th>\n",
              "      <th>geoid</th>\n",
              "      <th>label</th>\n",
              "      <th>name</th>\n",
              "      <th>meal_gap</th>\n",
              "      <th>food_insecure</th>\n",
              "      <th>snap_houses</th>\n",
              "      <th>bodega_to_supermarket</th>\n",
              "      <th>gent_level</th>\n",
              "    </tr>\n",
              "  </thead>\n",
              "  <tbody>\n",
              "    <tr>\n",
              "      <th>84</th>\n",
              "      <td>36005014701</td>\n",
              "      <td>Census Tract 147.01, Bronx County, New York</td>\n",
              "      <td>nan</td>\n",
              "      <td>NaN</td>\n",
              "      <td>41.9</td>\n",
              "      <td>3.600501e+10</td>\n",
              "      <td>NaN</td>\n",
              "      <td>LI - At Risk of Gentrification</td>\n",
              "    </tr>\n",
              "    <tr>\n",
              "      <th>353</th>\n",
              "      <td>36047002300</td>\n",
              "      <td>Census Tract 23, Kings County, New York</td>\n",
              "      <td>nan</td>\n",
              "      <td>NaN</td>\n",
              "      <td>42.0</td>\n",
              "      <td>3.604700e+10</td>\n",
              "      <td>NaN</td>\n",
              "      <td>LI - At Risk of Gentrification</td>\n",
              "    </tr>\n",
              "    <tr>\n",
              "      <th>401</th>\n",
              "      <td>36047008500</td>\n",
              "      <td>Census Tract 85, Kings County, New York</td>\n",
              "      <td>nan</td>\n",
              "      <td>NaN</td>\n",
              "      <td>40.9</td>\n",
              "      <td>3.604701e+10</td>\n",
              "      <td>NaN</td>\n",
              "      <td>LI - At Risk of Gentrification</td>\n",
              "    </tr>\n",
              "    <tr>\n",
              "      <th>632</th>\n",
              "      <td>36047035200</td>\n",
              "      <td>Census Tract 352, Kings County, New York</td>\n",
              "      <td>nan</td>\n",
              "      <td>NaN</td>\n",
              "      <td>40.3</td>\n",
              "      <td>3.604704e+10</td>\n",
              "      <td>NaN</td>\n",
              "      <td>LI - Ongoing Gentrification</td>\n",
              "    </tr>\n",
              "    <tr>\n",
              "      <th>990</th>\n",
              "      <td>36047090800</td>\n",
              "      <td>Census Tract 908, Kings County, New York</td>\n",
              "      <td>nan</td>\n",
              "      <td>NaN</td>\n",
              "      <td>45.2</td>\n",
              "      <td>3.604709e+10</td>\n",
              "      <td>NaN</td>\n",
              "      <td>LI - At Risk of Gentrification</td>\n",
              "    </tr>\n",
              "  </tbody>\n",
              "</table>\n",
              "</div>"
            ],
            "text/plain": [
              "           geoid  ...                      gent_level\n",
              "84   36005014701  ...  LI - At Risk of Gentrification\n",
              "353  36047002300  ...  LI - At Risk of Gentrification\n",
              "401  36047008500  ...  LI - At Risk of Gentrification\n",
              "632  36047035200  ...     LI - Ongoing Gentrification\n",
              "990  36047090800  ...  LI - At Risk of Gentrification\n",
              "\n",
              "[5 rows x 8 columns]"
            ]
          },
          "metadata": {
            "tags": []
          },
          "execution_count": 394
        }
      ]
    },
    {
      "cell_type": "markdown",
      "metadata": {
        "deletable": false,
        "editable": false,
        "nbgrader": {
          "cell_type": "markdown",
          "checksum": "956ff6e2a25dfb004e66c7ed1a7f6a81",
          "grade": false,
          "grade_id": "Q6",
          "locked": true,
          "points": 5,
          "schema_version": 3,
          "solution": false,
          "task": true
        },
        "id": "gEAynBW3m5xS"
      },
      "source": [
        "### **6. Descriptive statistics**\n",
        "\n",
        "Explore the variables with descriptive statistics each. Briefly explain why you chose the statistics and interpret the result."
      ]
    },
    {
      "cell_type": "markdown",
      "metadata": {
        "id": "_sGsefj86LoR"
      },
      "source": [
        "##### Number/Frequency of Locations for each Gentrification Level"
      ]
    },
    {
      "cell_type": "code",
      "metadata": {
        "id": "NpwsG1nwbUW8",
        "colab": {
          "base_uri": "https://localhost:8080/"
        },
        "outputId": "781e94fd-415f-46e6-9da2-af59a3a72e61"
      },
      "source": [
        "fi_gent['gent_level'].value_counts() #number of locations for each gentrification level"
      ],
      "execution_count": null,
      "outputs": [
        {
          "output_type": "execute_result",
          "data": {
            "text/plain": [
              "MHI - Stable Exclusion                                653\n",
              "LI - Not Losing Low-Income Households                 358\n",
              "MHI - Ongoing Exclusion                               259\n",
              "LI - Ongoing Displacement of Low-Income Households    250\n",
              "LI - Ongoing Gentrification                           207\n",
              "LI - At Risk of Gentrification                        202\n",
              "MHI - Advanced Gentrification                         117\n",
              "VHI - Super Gentrification or Exclusion                41\n",
              "Name: gent_level, dtype: int64"
            ]
          },
          "metadata": {
            "tags": []
          },
          "execution_count": 395
        }
      ]
    },
    {
      "cell_type": "code",
      "metadata": {
        "id": "brjVtppkb8YJ",
        "colab": {
          "base_uri": "https://localhost:8080/"
        },
        "outputId": "dee9542b-994e-4c4d-971b-e206cbf1b20d"
      },
      "source": [
        "fi_gent['gent_level'].value_counts(normalize=True).round(4) * 100 #frequency (%) of gentrification at each level"
      ],
      "execution_count": null,
      "outputs": [
        {
          "output_type": "execute_result",
          "data": {
            "text/plain": [
              "MHI - Stable Exclusion                                31.29\n",
              "LI - Not Losing Low-Income Households                 17.15\n",
              "MHI - Ongoing Exclusion                               12.41\n",
              "LI - Ongoing Displacement of Low-Income Households    11.98\n",
              "LI - Ongoing Gentrification                            9.92\n",
              "LI - At Risk of Gentrification                         9.68\n",
              "MHI - Advanced Gentrification                          5.61\n",
              "VHI - Super Gentrification or Exclusion                1.96\n",
              "Name: gent_level, dtype: float64"
            ]
          },
          "metadata": {
            "tags": []
          },
          "execution_count": 396
        }
      ]
    },
    {
      "cell_type": "markdown",
      "metadata": {
        "id": "wtPCVgGlFsaW"
      },
      "source": [
        "I chose these stats because I wanted to get an idea of how gentrified NYC was overall. I can infer that NYC is not fully gentrified yet -- it is more likely to have ongoing exclusion, displacement and gentrification, with the most locations having stable location and the lowest having super gentrification. "
      ]
    },
    {
      "cell_type": "markdown",
      "metadata": {
        "id": "AgS8PetB6u38"
      },
      "source": [
        "##### Descriptive Statistics for Food Insecurity Variable for each Gentrification Level (and Entire Dataset)"
      ]
    },
    {
      "cell_type": "code",
      "metadata": {
        "id": "qiE1-aT32VGO",
        "colab": {
          "base_uri": "https://localhost:8080/"
        },
        "outputId": "8012ca77-cfe1-44e6-f4ad-db802d895010"
      },
      "source": [
        "fi_gent['food_insecure'].describe().round(2) #descriptive stats for food insecurity variable (whole dataset)"
      ],
      "execution_count": null,
      "outputs": [
        {
          "output_type": "execute_result",
          "data": {
            "text/plain": [
              "count    2087.00\n",
              "mean       13.94\n",
              "std         6.46\n",
              "min         1.40\n",
              "25%         9.20\n",
              "50%        12.50\n",
              "75%        17.45\n",
              "max        54.40\n",
              "Name: food_insecure, dtype: float64"
            ]
          },
          "metadata": {
            "tags": []
          },
          "execution_count": 397
        }
      ]
    },
    {
      "cell_type": "code",
      "metadata": {
        "id": "0gR7o5xtdImT",
        "colab": {
          "base_uri": "https://localhost:8080/"
        },
        "outputId": "85c37a42-aef2-4da4-8d8e-244265a1f973"
      },
      "source": [
        "fi_stabExcl['food_insecure'].describe().round(2) #descriptive stats for food insecurity (for locations with stable exclusion)"
      ],
      "execution_count": null,
      "outputs": [
        {
          "output_type": "execute_result",
          "data": {
            "text/plain": [
              "count    653.00\n",
              "mean       9.91\n",
              "std        3.92\n",
              "min        2.60\n",
              "25%        7.40\n",
              "50%        9.50\n",
              "75%       11.60\n",
              "max       54.40\n",
              "Name: food_insecure, dtype: float64"
            ]
          },
          "metadata": {
            "tags": []
          },
          "execution_count": 398
        }
      ]
    },
    {
      "cell_type": "code",
      "metadata": {
        "id": "1VjKSiH2lh_B",
        "colab": {
          "base_uri": "https://localhost:8080/"
        },
        "outputId": "35a45b66-f3a9-4845-ef10-ce64e7b9167a"
      },
      "source": [
        "fi_ongExcl['food_insecure'].describe().round(2) #descriptive stats for food insecurity (for locations with ongoing exclusion)"
      ],
      "execution_count": null,
      "outputs": [
        {
          "output_type": "execute_result",
          "data": {
            "text/plain": [
              "count    259.00\n",
              "mean       9.83\n",
              "std        2.84\n",
              "min        3.10\n",
              "25%        7.85\n",
              "50%        9.70\n",
              "75%       11.50\n",
              "max       20.50\n",
              "Name: food_insecure, dtype: float64"
            ]
          },
          "metadata": {
            "tags": []
          },
          "execution_count": 399
        }
      ]
    },
    {
      "cell_type": "code",
      "metadata": {
        "id": "uO9kSqlol0gG",
        "colab": {
          "base_uri": "https://localhost:8080/"
        },
        "outputId": "d6a1f136-2277-409a-e6f5-92b646f1cb52"
      },
      "source": [
        "fi_riskGent['food_insecure'].describe().round(2) #descriptive stats for food insecurity (for locations at risk of gentrification)"
      ],
      "execution_count": null,
      "outputs": [
        {
          "output_type": "execute_result",
          "data": {
            "text/plain": [
              "count    202.00\n",
              "mean      22.34\n",
              "std        6.99\n",
              "min        7.40\n",
              "25%       16.92\n",
              "50%       22.40\n",
              "75%       26.60\n",
              "max       45.20\n",
              "Name: food_insecure, dtype: float64"
            ]
          },
          "metadata": {
            "tags": []
          },
          "execution_count": 400
        }
      ]
    },
    {
      "cell_type": "code",
      "metadata": {
        "id": "3R9d7Id9l3F4",
        "colab": {
          "base_uri": "https://localhost:8080/"
        },
        "outputId": "762814f7-c7d2-44b0-c4b2-cd75ff0cb4d7"
      },
      "source": [
        "fi_noGent['food_insecure'].describe().round(2) #descriptive stats for food insecurity (for locations not losing low-income households)"
      ],
      "execution_count": null,
      "outputs": [
        {
          "output_type": "execute_result",
          "data": {
            "text/plain": [
              "count    358.00\n",
              "mean      16.01\n",
              "std        4.56\n",
              "min        5.60\n",
              "25%       12.70\n",
              "50%       15.85\n",
              "75%       18.58\n",
              "max       37.30\n",
              "Name: food_insecure, dtype: float64"
            ]
          },
          "metadata": {
            "tags": []
          },
          "execution_count": 401
        }
      ]
    },
    {
      "cell_type": "code",
      "metadata": {
        "id": "xXfwUtoumahx",
        "colab": {
          "base_uri": "https://localhost:8080/"
        },
        "outputId": "a958bd79-4454-4d76-a57d-5aec37d9d46a"
      },
      "source": [
        "fi_disp['food_insecure'].describe().round(2) #descriptive stats for food insecurity (for locations with ongoing displacement)"
      ],
      "execution_count": null,
      "outputs": [
        {
          "output_type": "execute_result",
          "data": {
            "text/plain": [
              "count    250.00\n",
              "mean      16.89\n",
              "std        5.17\n",
              "min        5.80\n",
              "25%       13.10\n",
              "50%       16.05\n",
              "75%       19.95\n",
              "max       32.40\n",
              "Name: food_insecure, dtype: float64"
            ]
          },
          "metadata": {
            "tags": []
          },
          "execution_count": 402
        }
      ]
    },
    {
      "cell_type": "code",
      "metadata": {
        "id": "Sv9ombgAmhLK",
        "colab": {
          "base_uri": "https://localhost:8080/"
        },
        "outputId": "72f6284e-7f43-482e-ec6a-4bcfaa239dd0"
      },
      "source": [
        "fi_advGent['food_insecure'].describe().round(2) #descriptive stats for food insecurity (for locations with advanced gentrification)"
      ],
      "execution_count": null,
      "outputs": [
        {
          "output_type": "execute_result",
          "data": {
            "text/plain": [
              "count    117.00\n",
              "mean      10.78\n",
              "std        3.84\n",
              "min        3.00\n",
              "25%        7.90\n",
              "50%       10.70\n",
              "75%       13.00\n",
              "max       23.90\n",
              "Name: food_insecure, dtype: float64"
            ]
          },
          "metadata": {
            "tags": []
          },
          "execution_count": 403
        }
      ]
    },
    {
      "cell_type": "code",
      "metadata": {
        "id": "YsY0FzEfmjqy",
        "colab": {
          "base_uri": "https://localhost:8080/"
        },
        "outputId": "81ad4c4f-d702-4c2d-a821-53f018fdf722"
      },
      "source": [
        "fi_superGent['food_insecure'].describe().round(2) #descriptive stats for food insecurity (for locations with super gentrification)"
      ],
      "execution_count": null,
      "outputs": [
        {
          "output_type": "execute_result",
          "data": {
            "text/plain": [
              "count    41.00\n",
              "mean      6.74\n",
              "std       2.35\n",
              "min       1.40\n",
              "25%       5.60\n",
              "50%       6.40\n",
              "75%       7.60\n",
              "max      13.20\n",
              "Name: food_insecure, dtype: float64"
            ]
          },
          "metadata": {
            "tags": []
          },
          "execution_count": 404
        }
      ]
    },
    {
      "cell_type": "code",
      "metadata": {
        "id": "OFrQIvDrmpCi",
        "colab": {
          "base_uri": "https://localhost:8080/"
        },
        "outputId": "a73d19f0-8337-42fe-8733-cdac945f5837"
      },
      "source": [
        "fi_ongGent['food_insecure'].describe().round(2) #descriptive stats for food insecurity (for locations with ongoing gentrification)"
      ],
      "execution_count": null,
      "outputs": [
        {
          "output_type": "execute_result",
          "data": {
            "text/plain": [
              "count    207.00\n",
              "mean      19.72\n",
              "std        5.36\n",
              "min        7.80\n",
              "25%       15.80\n",
              "50%       19.40\n",
              "75%       23.00\n",
              "max       40.30\n",
              "Name: food_insecure, dtype: float64"
            ]
          },
          "metadata": {
            "tags": []
          },
          "execution_count": 405
        }
      ]
    },
    {
      "cell_type": "markdown",
      "metadata": {
        "id": "AlluGg5FGrPO"
      },
      "source": [
        "I chose these stats to compare the amount of food insecurity at each gentrification level. From my stats, I can see that, *on average*, locations at risk of gentrification has the highest level of food insecurity, while locations with super gentrification has the lowest level of food insecurity. There is the most variance in food insecurity for locations at risk of gentrification and the lowest variance in food insecurity for locations with super gentrification (but there are also 202 locations at risk of gentrification and 41 locations with super gentrification)."
      ]
    },
    {
      "cell_type": "markdown",
      "metadata": {
        "id": "WTgWAqXg7BEb"
      },
      "source": [
        "##### Frequency of Gentrification Levels for Different Food Insecurity Levels"
      ]
    },
    {
      "cell_type": "code",
      "metadata": {
        "id": "Kk5jJ_ZQo9CM",
        "colab": {
          "base_uri": "https://localhost:8080/"
        },
        "outputId": "177262c2-baf8-4dae-893d-0f9e7f04a147"
      },
      "source": [
        "veryLow_fi['gent_level'].value_counts(normalize=True).round(4) * 100 #frequency of gentrification levels with 'very' low food insecurity "
      ],
      "execution_count": null,
      "outputs": [
        {
          "output_type": "execute_result",
          "data": {
            "text/plain": [
              "MHI - Stable Exclusion                                56.12\n",
              "MHI - Ongoing Exclusion                               22.39\n",
              "MHI - Advanced Gentrification                          7.31\n",
              "VHI - Super Gentrification or Exclusion                5.37\n",
              "LI - Not Losing Low-Income Households                  4.33\n",
              "LI - Ongoing Displacement of Low-Income Households     2.84\n",
              "LI - Ongoing Gentrification                            0.90\n",
              "LI - At Risk of Gentrification                         0.75\n",
              "Name: gent_level, dtype: float64"
            ]
          },
          "metadata": {
            "tags": []
          },
          "execution_count": 406
        }
      ]
    },
    {
      "cell_type": "code",
      "metadata": {
        "id": "VQlp3rc1tqdu",
        "colab": {
          "base_uri": "https://localhost:8080/"
        },
        "outputId": "ce515f68-a099-4541-a642-e3941e139302"
      },
      "source": [
        "low_fi['gent_level'].value_counts(normalize=True).round(4) * 100 #frequency of gentrification levels with low food insecurity(10-20%)"
      ],
      "execution_count": null,
      "outputs": [
        {
          "output_type": "execute_result",
          "data": {
            "text/plain": [
              "MHI - Stable Exclusion                                25.28\n",
              "LI - Not Losing Low-Income Households                 24.72\n",
              "LI - Ongoing Displacement of Low-Income Households    15.95\n",
              "LI - Ongoing Gentrification                           10.17\n",
              "MHI - Ongoing Exclusion                               10.07\n",
              "LI - At Risk of Gentrification                         7.18\n",
              "MHI - Advanced Gentrification                          6.16\n",
              "VHI - Super Gentrification or Exclusion                0.47\n",
              "Name: gent_level, dtype: float64"
            ]
          },
          "metadata": {
            "tags": []
          },
          "execution_count": 407
        }
      ]
    },
    {
      "cell_type": "code",
      "metadata": {
        "id": "vfuoM62StsJs",
        "colab": {
          "base_uri": "https://localhost:8080/"
        },
        "outputId": "b5281ade-bd7e-4fa3-989e-27711230a06b"
      },
      "source": [
        "med_fi['gent_level'].value_counts(normalize=True).round(4) * 100 #frequency of gentrification levels with medium food insecurity(20-30%)"
      ],
      "execution_count": null,
      "outputs": [
        {
          "output_type": "execute_result",
          "data": {
            "text/plain": [
              "LI - At Risk of Gentrification                        31.60\n",
              "LI - Ongoing Gentrification                           28.01\n",
              "LI - Not Losing Low-Income Households                 20.20\n",
              "LI - Ongoing Displacement of Low-Income Households    18.24\n",
              "MHI - Stable Exclusion                                 0.98\n",
              "MHI - Advanced Gentrification                          0.65\n",
              "MHI - Ongoing Exclusion                                0.33\n",
              "Name: gent_level, dtype: float64"
            ]
          },
          "metadata": {
            "tags": []
          },
          "execution_count": 408
        }
      ]
    },
    {
      "cell_type": "code",
      "metadata": {
        "id": "pP9IG3W5z1e6",
        "colab": {
          "base_uri": "https://localhost:8080/"
        },
        "outputId": "7fb64c32-7e01-4a78-c1e4-bcbaf23cc66b"
      },
      "source": [
        "high_fi['gent_level'].value_counts(normalize=True).round(4) * 100 #frequency of gentrification levels with high food insecurity(30-40%)"
      ],
      "execution_count": null,
      "outputs": [
        {
          "output_type": "execute_result",
          "data": {
            "text/plain": [
              "LI - At Risk of Gentrification                        60.00\n",
              "LI - Ongoing Gentrification                           16.67\n",
              "LI - Ongoing Displacement of Low-Income Households    13.33\n",
              "LI - Not Losing Low-Income Households                  6.67\n",
              "MHI - Stable Exclusion                                 3.33\n",
              "Name: gent_level, dtype: float64"
            ]
          },
          "metadata": {
            "tags": []
          },
          "execution_count": 409
        }
      ]
    },
    {
      "cell_type": "code",
      "metadata": {
        "id": "lJntmvcL0UWL",
        "colab": {
          "base_uri": "https://localhost:8080/"
        },
        "outputId": "dac1669f-98bc-4551-a521-729354cf0ba1"
      },
      "source": [
        "veryHigh_fi['gent_level'].value_counts(normalize=True).round(4) * 100 #frequency of gentrification levels with 'very' high food insecurity(above 40%)"
      ],
      "execution_count": null,
      "outputs": [
        {
          "output_type": "execute_result",
          "data": {
            "text/plain": [
              "LI - At Risk of Gentrification    62.5\n",
              "MHI - Stable Exclusion            25.0\n",
              "LI - Ongoing Gentrification       12.5\n",
              "Name: gent_level, dtype: float64"
            ]
          },
          "metadata": {
            "tags": []
          },
          "execution_count": 410
        }
      ]
    },
    {
      "cell_type": "markdown",
      "metadata": {
        "id": "D7ziEkevTWcD"
      },
      "source": [
        "I chose these stats because I wanted to see how the frequency of locations at each gentrification level differed by level of food insecurity. From these stats, it seems like location with higher levels of food insecurity are more likely to be at risk of gentrification and ones with lower levels of food insecurity are more likely to have stable exclusion. Locations with high and very high levels of food insecurity also do not have advanced or super gentrification.  For most levels of food insecurity, locations seem to be less likely to have advanced or super gentrification (with the exception of locations with very low food insecurity)."
      ]
    },
    {
      "cell_type": "markdown",
      "metadata": {
        "id": "IUv2iNU-8ShY"
      },
      "source": [
        "##### Number of Locations at each Gentrification Level for Different Food Insecurity Levels"
      ]
    },
    {
      "cell_type": "code",
      "metadata": {
        "id": "K8zid4L40mzZ",
        "colab": {
          "base_uri": "https://localhost:8080/"
        },
        "outputId": "28578dd8-f499-4c33-9067-660e9bfa6530"
      },
      "source": [
        "veryLow_fi['gent_level'].value_counts() #number of locations at each gentrification level for 'very' low food insecurity(0-10%)"
      ],
      "execution_count": null,
      "outputs": [
        {
          "output_type": "execute_result",
          "data": {
            "text/plain": [
              "MHI - Stable Exclusion                                376\n",
              "MHI - Ongoing Exclusion                               150\n",
              "MHI - Advanced Gentrification                          49\n",
              "VHI - Super Gentrification or Exclusion                36\n",
              "LI - Not Losing Low-Income Households                  29\n",
              "LI - Ongoing Displacement of Low-Income Households     19\n",
              "LI - Ongoing Gentrification                             6\n",
              "LI - At Risk of Gentrification                          5\n",
              "Name: gent_level, dtype: int64"
            ]
          },
          "metadata": {
            "tags": []
          },
          "execution_count": 411
        }
      ]
    },
    {
      "cell_type": "code",
      "metadata": {
        "id": "lGLGZMor1eDS",
        "colab": {
          "base_uri": "https://localhost:8080/"
        },
        "outputId": "028218be-f60e-405c-8168-8004960c748e"
      },
      "source": [
        "low_fi['gent_level'].value_counts() #number of locations at each gentrification level for low food insecurity(10-20%)"
      ],
      "execution_count": null,
      "outputs": [
        {
          "output_type": "execute_result",
          "data": {
            "text/plain": [
              "MHI - Stable Exclusion                                271\n",
              "LI - Not Losing Low-Income Households                 265\n",
              "LI - Ongoing Displacement of Low-Income Households    171\n",
              "LI - Ongoing Gentrification                           109\n",
              "MHI - Ongoing Exclusion                               108\n",
              "LI - At Risk of Gentrification                         77\n",
              "MHI - Advanced Gentrification                          66\n",
              "VHI - Super Gentrification or Exclusion                 5\n",
              "Name: gent_level, dtype: int64"
            ]
          },
          "metadata": {
            "tags": []
          },
          "execution_count": 412
        }
      ]
    },
    {
      "cell_type": "code",
      "metadata": {
        "id": "J-BZ5Lfk1hkn",
        "colab": {
          "base_uri": "https://localhost:8080/"
        },
        "outputId": "f20ff3f6-b467-4153-a54f-50faa8725bd0"
      },
      "source": [
        "med_fi['gent_level'].value_counts() #number of locations at each gentrification level for medium food insecurity(10-20%)"
      ],
      "execution_count": null,
      "outputs": [
        {
          "output_type": "execute_result",
          "data": {
            "text/plain": [
              "LI - At Risk of Gentrification                        97\n",
              "LI - Ongoing Gentrification                           86\n",
              "LI - Not Losing Low-Income Households                 62\n",
              "LI - Ongoing Displacement of Low-Income Households    56\n",
              "MHI - Stable Exclusion                                 3\n",
              "MHI - Advanced Gentrification                          2\n",
              "MHI - Ongoing Exclusion                                1\n",
              "Name: gent_level, dtype: int64"
            ]
          },
          "metadata": {
            "tags": []
          },
          "execution_count": 413
        }
      ]
    },
    {
      "cell_type": "code",
      "metadata": {
        "id": "yLZsCKq51jxr",
        "colab": {
          "base_uri": "https://localhost:8080/"
        },
        "outputId": "81463be4-1b76-479f-e953-b5e2110d798e"
      },
      "source": [
        "high_fi['gent_level'].value_counts() #number of locations at each gentrification level for high food insecurity(30-40%)"
      ],
      "execution_count": null,
      "outputs": [
        {
          "output_type": "execute_result",
          "data": {
            "text/plain": [
              "LI - At Risk of Gentrification                        18\n",
              "LI - Ongoing Gentrification                            5\n",
              "LI - Ongoing Displacement of Low-Income Households     4\n",
              "LI - Not Losing Low-Income Households                  2\n",
              "MHI - Stable Exclusion                                 1\n",
              "Name: gent_level, dtype: int64"
            ]
          },
          "metadata": {
            "tags": []
          },
          "execution_count": 414
        }
      ]
    },
    {
      "cell_type": "code",
      "metadata": {
        "id": "4pZnKsZp1oXX",
        "colab": {
          "base_uri": "https://localhost:8080/"
        },
        "outputId": "b9cd22db-ab1a-445c-f3a6-c60ab2507747"
      },
      "source": [
        "veryHigh_fi['gent_level'].value_counts() #number of locations at each gentrification level for 'very' high food insecurity(above 40%)"
      ],
      "execution_count": null,
      "outputs": [
        {
          "output_type": "execute_result",
          "data": {
            "text/plain": [
              "LI - At Risk of Gentrification    5\n",
              "MHI - Stable Exclusion            2\n",
              "LI - Ongoing Gentrification       1\n",
              "Name: gent_level, dtype: int64"
            ]
          },
          "metadata": {
            "tags": []
          },
          "execution_count": 415
        }
      ]
    },
    {
      "cell_type": "markdown",
      "metadata": {
        "id": "8oEYHjSZekB1"
      },
      "source": [
        "I chose these stats because I wanted to compare how much of each gentrification level is under different levels of food insecurity. The general trend I observe is that as the level of food insecurity increases, the number of locations at each gentrification level decreases (with the exception of advanced gentrification from very low to low food insecurity, not losing household from very low to low food insecurity, ongoing displacement from very low to low food insecurity, at risk of gentrification from very low to low gentrification and from low to medium gentrification). "
      ]
    },
    {
      "cell_type": "markdown",
      "metadata": {
        "id": "X99aRkeC8nqs"
      },
      "source": [
        "##### Descriptive Statistics for Food Insecurity Variable for Different Levels of Food Insecurity"
      ]
    },
    {
      "cell_type": "code",
      "metadata": {
        "id": "zcPYoeeop1gB",
        "colab": {
          "base_uri": "https://localhost:8080/"
        },
        "outputId": "9a55d2e3-10dd-41af-95b2-23f3c24f199b"
      },
      "source": [
        "veryLow_fi['food_insecure'].describe().round(2) #descriptive stats for food insecurity variable (for locations with 'very' low food insecurity(0-10%))"
      ],
      "execution_count": null,
      "outputs": [
        {
          "output_type": "execute_result",
          "data": {
            "text/plain": [
              "count    670.00\n",
              "mean       7.72\n",
              "std        1.64\n",
              "min        1.40\n",
              "25%        6.60\n",
              "50%        8.00\n",
              "75%        9.10\n",
              "max       10.00\n",
              "Name: food_insecure, dtype: float64"
            ]
          },
          "metadata": {
            "tags": []
          },
          "execution_count": 416
        }
      ]
    },
    {
      "cell_type": "code",
      "metadata": {
        "id": "yPk6-1Sltv6Z",
        "colab": {
          "base_uri": "https://localhost:8080/"
        },
        "outputId": "79ca98d2-6d5f-44d8-ec78-a8d231fb8f90"
      },
      "source": [
        "low_fi['food_insecure'].describe().round(2) #descriptive stats for food insecurity variable (for locations with low food insecurity(10-20%))"
      ],
      "execution_count": null,
      "outputs": [
        {
          "output_type": "execute_result",
          "data": {
            "text/plain": [
              "count    1072.00\n",
              "mean       14.22\n",
              "std         2.79\n",
              "min        10.10\n",
              "25%        11.90\n",
              "50%        13.85\n",
              "75%        16.40\n",
              "max        20.00\n",
              "Name: food_insecure, dtype: float64"
            ]
          },
          "metadata": {
            "tags": []
          },
          "execution_count": 417
        }
      ]
    },
    {
      "cell_type": "code",
      "metadata": {
        "id": "KciD3PMr0OQU",
        "colab": {
          "base_uri": "https://localhost:8080/"
        },
        "outputId": "b4a465e7-64bc-4b12-8675-4376914b8bae"
      },
      "source": [
        "med_fi['food_insecure'].describe().round(2) #descriptive stats for food insecurity variable (for locations with medium food insecurity(20-30%))"
      ],
      "execution_count": null,
      "outputs": [
        {
          "output_type": "execute_result",
          "data": {
            "text/plain": [
              "count    307.00\n",
              "mean      23.93\n",
              "std        2.63\n",
              "min       20.10\n",
              "25%       21.80\n",
              "50%       23.50\n",
              "75%       25.95\n",
              "max       30.00\n",
              "Name: food_insecure, dtype: float64"
            ]
          },
          "metadata": {
            "tags": []
          },
          "execution_count": 418
        }
      ]
    },
    {
      "cell_type": "code",
      "metadata": {
        "id": "mIlp2svr0ROW",
        "colab": {
          "base_uri": "https://localhost:8080/"
        },
        "outputId": "9343e6c9-b88d-437e-ee31-084f55fbe355"
      },
      "source": [
        "high_fi['food_insecure'].describe().round(2) #descriptive stats for food insecurity variable (for locations with high food insecurity(30-40%))"
      ],
      "execution_count": null,
      "outputs": [
        {
          "output_type": "execute_result",
          "data": {
            "text/plain": [
              "count    30.00\n",
              "mean     32.70\n",
              "std       2.47\n",
              "min      30.10\n",
              "25%      30.63\n",
              "50%      31.90\n",
              "75%      34.08\n",
              "max      38.20\n",
              "Name: food_insecure, dtype: float64"
            ]
          },
          "metadata": {
            "tags": []
          },
          "execution_count": 419
        }
      ]
    },
    {
      "cell_type": "code",
      "metadata": {
        "id": "N2PFrY260aGC",
        "colab": {
          "base_uri": "https://localhost:8080/"
        },
        "outputId": "3c187df4-693d-4c6b-8141-764d99e0e448"
      },
      "source": [
        "veryHigh_fi['food_insecure'].describe().round(2) #descriptive stats for food insecurity variable (for locations with 'very' high food insecurity(above 40%))"
      ],
      "execution_count": null,
      "outputs": [
        {
          "output_type": "execute_result",
          "data": {
            "text/plain": [
              "count     8.00\n",
              "mean     44.09\n",
              "std       4.73\n",
              "min      40.30\n",
              "25%      41.12\n",
              "50%      41.95\n",
              "75%      45.60\n",
              "max      54.40\n",
              "Name: food_insecure, dtype: float64"
            ]
          },
          "metadata": {
            "tags": []
          },
          "execution_count": 420
        }
      ]
    },
    {
      "cell_type": "markdown",
      "metadata": {
        "id": "85nTJnaBlsgX"
      },
      "source": [
        "I chose these stats because I wanted to see how the food insecurity percentages were like for each level of food insecurity. There are the most locations that fall under low food insecurity, then very low food insecurity, then medium, then high, then very high. For very low (0-10%), the mean is 7.72, for low (10-20%), the mean is 14.22, for medium (20-30%), the mean is 23.93, for high (30-40%), the mean is 32.70, and for very high (above 40%), the mean is 44.09.\n",
        "Very low food insecurity has the lowest standard deviation, very high food insecurity has the highest standard deviation, and all the other (middle) values have a standard deviation between 2.0 and 3.0."
      ]
    },
    {
      "cell_type": "markdown",
      "metadata": {
        "deletable": false,
        "editable": false,
        "nbgrader": {
          "cell_type": "markdown",
          "checksum": "01c710f34c7c72de0e06d212423b2655",
          "grade": false,
          "grade_id": "Q7",
          "locked": true,
          "points": 5,
          "schema_version": 3,
          "solution": false,
          "task": true
        },
        "id": "APYwQk3Om5xY"
      },
      "source": [
        "### **7. Visualizations**\n",
        "\n",
        "Construct visualizations for the variables. Briefly explain why you chose that visualization and interpret the result. They should have titles, labeled axes, and any other information necessary to understand them (e.g., a legend)."
      ]
    },
    {
      "cell_type": "code",
      "metadata": {
        "id": "i4hkQKvE7h8E"
      },
      "source": [
        "import matplotlib.pyplot as plt #import matpotlib package \n",
        "#changing order gentrification levels appear from lowest level to highest (as shown in website)\n",
        "gent_order = [\"LI - Not Losing Low-Income Households\",\"LI - At Risk of Gentrification\",\"LI - Ongoing Displacement of Low-Income Households\", \"LI - Ongoing Gentrification\",\"MHI - Advanced Gentrification\",\"MHI - Stable Exclusion\",\"MHI - Ongoing Exclusion\",\"VHI - Super Gentrification or Exclusion\"]\n",
        "fi_gent['gent_level'] = pd.Categorical(fi_gent['gent_level'], gent_order)\n",
        "fi_gent.sort_values(by=['gent_level'], inplace=True)"
      ],
      "execution_count": null,
      "outputs": []
    },
    {
      "cell_type": "code",
      "metadata": {
        "colab": {
          "base_uri": "https://localhost:8080/",
          "height": 572
        },
        "id": "M7LI1nRB3PbQ",
        "outputId": "d104c5db-20d9-4219-f589-196bfde0f345"
      },
      "source": [
        "gent_count = fi_gent['gent_level'].value_counts().plot(kind='bar') #shows number of locations for each gentrification level\n",
        "gent_count.set_ylabel('Number of Locations')\n",
        "gent_count.set_xlabel('Gentrification Level')\n",
        "gent_count.set_title('Number of Locations at Each Gentrification Level')"
      ],
      "execution_count": null,
      "outputs": [
        {
          "output_type": "execute_result",
          "data": {
            "text/plain": [
              "Text(0.5, 1.0, 'Number of Locations at Each Gentrification Level')"
            ]
          },
          "metadata": {
            "tags": []
          },
          "execution_count": 426
        },
        {
          "output_type": "display_data",
          "data": {
            "image/png": "[encoded data removed]",
            "text/plain": [
              "<Figure size 432x288 with 1 Axes>"
            ]
          },
          "metadata": {
            "tags": [],
            "needs_background": "light"
          }
        }
      ]
    },
    {
      "cell_type": "markdown",
      "metadata": {
        "id": "XcCdAKJX8ywj"
      },
      "source": [
        "This visualization gives us a picture of how much of each gentrification is occurring in NYC."
      ]
    },
    {
      "cell_type": "code",
      "metadata": {
        "colab": {
          "base_uri": "https://localhost:8080/",
          "height": 572
        },
        "id": "FPUhhhWV4xv4",
        "outputId": "47cb50c1-2ed4-4b30-a9b9-7ded87f4e879"
      },
      "source": [
        "mean_fi = fi_gent.groupby(\"gent_level\")['food_insecure'].mean().plot(kind='line', rot=90) #shows the mean of % of food insecure residents for each gentrification level\n",
        "mean_fi.set_ylabel('Food Insecure (% of Residents)')\n",
        "mean_fi.set_xlabel('Gentrification Level')\n",
        "mean_fi.set_title('Mean Food Insecurity At Each Gentrification Level')"
      ],
      "execution_count": null,
      "outputs": [
        {
          "output_type": "execute_result",
          "data": {
            "text/plain": [
              "Text(0.5, 1.0, 'Mean Food Insecurity At Each Gentrification Level')"
            ]
          },
          "metadata": {
            "tags": []
          },
          "execution_count": 423
        },
        {
          "output_type": "display_data",
          "data": {
            "image/png": "[encoded data removed]",
            "text/plain": [
              "<Figure size 432x288 with 1 Axes>"
            ]
          },
          "metadata": {
            "tags": [],
            "needs_background": "light"
          }
        }
      ]
    },
    {
      "cell_type": "markdown",
      "metadata": {
        "id": "zsyvGumSBii_"
      },
      "source": [
        "This visualization helps us see if there is any pattern between the gentrification level and mean % of food insecurity at each level. Except for 2 cases, there is a negative trend (as the level of gentrification increases, the level of food insecurity decreases)."
      ]
    },
    {
      "cell_type": "code",
      "metadata": {
        "colab": {
          "base_uri": "https://localhost:8080/",
          "height": 294
        },
        "id": "tsXIgyLD3orB",
        "outputId": "ce9eeda2-12c9-437a-e6a1-2cf14626b9f8"
      },
      "source": [
        "plt.hist(fi_gent['food_insecure'], bins=5)\n",
        "plt.ylabel('Number of Locations')\n",
        "plt.xlabel('Food Insecure (% of Residents)')\n",
        "plt.title('Distribution of Food Insecurity Percentages')\n",
        "plt.show() #shows the distribution of % of food insecure residents (for very low, low, medium, high, very high food insecurity)"
      ],
      "execution_count": null,
      "outputs": [
        {
          "output_type": "display_data",
          "data": {
            "image/png": "[encoded data removed]",
            "text/plain": [
              "<Figure size 432x288 with 1 Axes>"
            ]
          },
          "metadata": {
            "tags": [],
            "needs_background": "light"
          }
        }
      ]
    },
    {
      "cell_type": "markdown",
      "metadata": {
        "id": "QB9P6IbLB7IG"
      },
      "source": [
        "This visualization helps us see how much of each level of food insecurity there is (very low, low, medium, high, very high - as defined above). Most of the locations fall within the very low and low food insecurity categories."
      ]
    },
    {
      "cell_type": "code",
      "metadata": {
        "id": "JZIY0I_3rFi-",
        "colab": {
          "base_uri": "https://localhost:8080/",
          "height": 554
        },
        "outputId": "a8aae32e-09f8-4fac-a361-9d572b344a36"
      },
      "source": [
        "plt.scatter(fi_gent['gent_level'],fi_gent['food_insecure'])\n",
        "plt.xlabel('Gentrification Level')\n",
        "plt.ylabel('Food Insecure (% of Residents)')\n",
        "plt.title('Gentrification and Food Insecurity')\n",
        "plt.xticks(rotation = 90)\n",
        "plt.show() # shows the % of food insecure residents for each location in each gentrification level"
      ],
      "execution_count": null,
      "outputs": [
        {
          "output_type": "display_data",
          "data": {
            "image/png": "[encoded data removed]",
            "text/plain": [
              "<Figure size 432x288 with 1 Axes>"
            ]
          },
          "metadata": {
            "tags": [],
            "needs_background": "light"
          }
        }
      ]
    },
    {
      "cell_type": "markdown",
      "metadata": {
        "id": "KskdvY2nCUE_"
      },
      "source": [
        "This visualization helps us see if there is any association between food insecurity and gentrification (based on the % of residents that are food insecure and the level of gentrification from our datasets). The plots seems to be slightly decreasing in % of food insecurity as the level of gentrification increases, but there is no strong associaton. While there are some outliers, most of the locations for each gentrification level seem to be under 40% food insecurity."
      ]
    },
    {
      "cell_type": "markdown",
      "metadata": {
        "deletable": false,
        "editable": false,
        "nbgrader": {
          "cell_type": "markdown",
          "checksum": "42c62d4eba6fb069e5133e62cb3ee362",
          "grade": false,
          "grade_id": "Q8",
          "locked": true,
          "points": 5,
          "schema_version": 3,
          "solution": false,
          "task": true
        },
        "id": "hyzT_-RUm5xa"
      },
      "source": [
        "### **8. Reflection**\n",
        "\n",
        "What stages of the scientific method have you completed so far? What have you learned about your data? About your topic of interest? Is anything surprising you at this stage when it comes to working through a new dataset on your own? If so, what? If not, why not?"
      ]
    },
    {
      "cell_type": "markdown",
      "metadata": {
        "id": "NpSzYk2isTlI"
      },
      "source": [
        "I have completed the observation, question, theory, hypothesis, and test hypothesis stages of the scientific method. From my data, I have learned that there is much missing data from food insecurity measures in NYC. There is also an uneven distribution in each variable (e.g. most locations with data on gentrification and food insecurity have over 600 locations with stable exclusion and less than 100 locations with super gentrification and most locations are on the lower end of food insecurity (%)), which can skew our results. Still, I have learned that, based on the measurements of gentrification and food insecurity, there might be a slight negative association between level of gentrification and food insecurity. However, I would not say this means that gentrification decreases food insecurity, because there are many factors that should be taken into account (errors in our data as mentioned above, how gentrified neighborhoods might have more people who are food secure, but this doesn't focus much on the residents who have become more food insecure as a result of gentrification). In working with this dataset, I was surprised by how detailed and difficult it was to operationalize food insecurity and gentrification based on the datasets I had and find the right visuals that would give me the most information. For next steps, I want to complete more in depth statistical analysis on the data, find or collect and use data on food expense throughout NYC, which I believe will give me a better idea of the impact of gentrification on food insecurity in NYC. I also want to explore the difference between food insufficiency and food insecurity and see if I can use the data on meal gap and snap benefits to add to my analysis on the relationship between gentrification and food insecurity."
      ]
    },
    {
      "cell_type": "markdown",
      "metadata": {
        "id": "pIspcZu2suvN"
      },
      "source": [
        "### **9. Other Notes & Resources Used**"
      ]
    },
    {
      "cell_type": "markdown",
      "metadata": {
        "id": "mf_bRoA2yzI4"
      },
      "source": [
        "Variable Specifics in Table:\n",
        "- Meal Gap (# of meals needed per year for food security)\t\n",
        "- Food Insecure (% of residents)\t\n",
        "- SNAP Benefits (% households)\t\n",
        "- Bodega to Supermarket Ratio (#)\t"
      ]
    },
    {
      "cell_type": "markdown",
      "metadata": {
        "id": "14B6wDHFmgff"
      },
      "source": [
        "NOTES: \n",
        "- Errors: \n",
        "  - When converting the values for % of households in SNAP benefits to numerical values (floats not strings) to use for descriptive statistics, values were turned into artibitary long numbers - would need to find the error and fix next time\n",
        "  - Most of meal gap variable data missing\n",
        "- Amount of Data:\n",
        "  - **gentrification** data: 5294 locations - 102 missing data = **5192** locations\n",
        "  - **food insecurity** data: **2280** locations\n",
        "  - **combined** data: **2087** locations with gentrification and (some type) of food insecurity measurements"
      ]
    },
    {
      "cell_type": "markdown",
      "metadata": {
        "id": "vW_n4GLC96IL"
      },
      "source": [
        "Different Gentrification Levels:\n",
        "- MHI - Stable Exclusion                               \n",
        "- MHI - Ongoing Exclusion                              \n",
        "- LI - At Risk of Gentrification                         \n",
        "- LI - Not Losing Low-Income Households                  \n",
        "-LI - Ongoing Displacement of Low-Income Households     \n",
        "- MHI - Advanced Gentrification                        \n",
        "- VHI - Super Gentrification or Exclusion              \n",
        "- LI - Ongoing Gentrification\n",
        "\n",
        "Different Food Insecurity Levels (as defined by me):\n",
        "- Very Low (0-10%)\n",
        "- Low (10-20%, exclusive of 10%)\n",
        "- Medium (20-30% exclusive of 20%)\n",
        "- High (30-40%, exclusive of 30%)\n",
        "- Very High (above 40%)"
      ]
    },
    {
      "cell_type": "markdown",
      "metadata": {
        "id": "nzFv9KkKsyGx"
      },
      "source": [
        "#### Sources:\n",
        "Resources for Research:\n",
        "- [DATA2GO.NYC - Food Insecurity in NYC](https://data2go.nyc/map/?id=107*36047015900*food_insecure_tract!undefined!ns*!buttonHolder~other_pop_cd_506~ahdi_puma_1~sch_enrol_cd_112~age_pyramid_male_85_plus_cd_20~median_household_income_puma_397~median_personal_earnings_puma_400~dis_y_perc_puma_102~poverty_ceo_cd_417~unemployment_cd_408~pre_k_cd_107!*air_qual_cd~ahdi_puma*family_homeless_cd_245#11/40.7155/-73.9510)\n",
        "- [Food Insecurity NYC Boroughs Dataset](https://drive.google.com/file/d/1Q8hVM06KtCYFq_OqF7swF1JRoD6rZ7Ui/view?usp=sharing)\n",
        "- [Food Insecurity NYC Neighborhoods Dataset](https://drive.google.com/file/d/1qAxnwdpoBPg_Xb43Xc9hk7cOph2gcNbU/view?usp=sharing)\n",
        "- [Mapping Displacement and Gentrification in the New York Metropolitan Area](https://www.urbandisplacement.org/maps/ny)\n",
        "- [Gentrification Map Dataset](https://drive.google.com/file/d/18F-imj3EGA_rwImKkKR1logosTz-HiYr/view?usp=sharing)\n",
        "- [What is Food Insecurity? | Feeding America](https://www.feedingamerica.org/hunger-in-america/food-insecurity)\n",
        "- [Map the Meal Gap 2020 Technical Brief.pdf](https://www.feedingamerica.org/sites/default/files/2020-06/Map%20the%20Meal%20Gap%202020%20Technical%20Brief.pdf)\n",
        "-[USDA ERS - Measurement](https://www.ers.usda.gov/topics/food-nutrition-assistance/food-security-in-the-us/measurement.aspx#measurement)\n",
        "- [Data2Go.NYC.5th.Edition.FoodSystems](https://drive.google.com/file/d/1XWmMRe4_LB5_nzcv0lJtHvdVManFMjoB/view?usp=sharing)\n",
        "\n",
        "Resources for Coding Help:\n",
        "- [Uploading CSV Files to Google Colab](https://medium.com/@simonprdhm/2-ways-to-upload-csv-files-to-google-colab-4d29ffa9db85)\n",
        "- [python - How to select rows from a DataFrame based on column values - Stack Overflow](https://stackoverflow.com/questions/17071871/how-to-select-rows-from-a-dataframe-based-on-column-values)\n",
        "- [Pandas Difference Between two Dataframes](https://kanoki.org/2019/07/04/pandas-difference-between-two-dataframes/)\n",
        "- [How to merge two data frames based on particular column in pandas python? - Stack Overflow](https://stackoverflow.com/questions/37697195/how-to-merge-two-data-frames-based-on-particular-column-in-pandas-python)\n",
        "- [python - Delete column from pandas DataFrame - Stack Overflow](https://stackoverflow.com/questions/13411544/delete-column-from-pandas-dataframe)\n",
        "- [python - How to check if a column exists in Pandas - Stack Overflow](https://stackoverflow.com/questions/24870306/how-to-check-if-a-column-exists-in-pandas)\n",
        "- [python - How to sort y axis in desired order in scatter plot? - Stack Overflow](https://stackoverflow.com/questions/55934232/how-to-sort-y-axis-in-desired-order-in-scatter-plot)\n",
        "- [python - How to rotate x-axis tick labels in Pandas barplot - Stack Overflow](https://stackoverflow.com/questions/32244019/how-to-rotate-x-axis-tick-labels-in-pandas-barplot)\n",
        "- [Rotate Axis Labels in Matplotlib](https://stackabuse.com/rotate-axis-labels-in-matplotlib/#:~:text=Rotate%20X%2DAxis%20Labels%20in%20Matplotlib&text=There%20are%20two%20ways%20to,set_xticklabels()%20and%20ax.)"
      ]
    }
  ]
}